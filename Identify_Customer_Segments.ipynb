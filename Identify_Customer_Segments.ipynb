{
 "cells": [
  {
   "cell_type": "markdown",
   "metadata": {},
   "source": [
    "# Project: Identify Customer Segments\n",
    "\n",
    "In this project, I have appled unsupervised learning techniques to identify segments of the population that form the core customer base for a mail-order sales company in Germany. These segments can then be used to direct marketing campaigns towards audiences that will have the highest expected rate of returns. The data that I have used has been provided by our partners at Bertelsmann Arvato Analytics, and represents a real-life data science task.\n"
   ]
  },
  {
   "cell_type": "code",
   "execution_count": 1,
   "metadata": {},
   "outputs": [
    {
     "name": "stdout",
     "output_type": "stream",
     "text": [
      "Collecting missingno\n",
      "  Downloading https://files.pythonhosted.org/packages/d8/c2/b407dce6b18d44f52173f6921d62f326e1329dd6d82fa03b380a14612e4c/missingno-0.5.0-py3-none-any.whl\n",
      "Requirement already satisfied: matplotlib in /opt/conda/lib/python3.6/site-packages (from missingno) (2.1.0)\n",
      "Requirement already satisfied: seaborn in /opt/conda/lib/python3.6/site-packages (from missingno) (0.8.1)\n",
      "Requirement already satisfied: numpy in /opt/conda/lib/python3.6/site-packages (from missingno) (1.12.1)\n",
      "Requirement already satisfied: scipy in /opt/conda/lib/python3.6/site-packages (from missingno) (1.2.1)\n",
      "Requirement already satisfied: six>=1.10 in /opt/conda/lib/python3.6/site-packages (from matplotlib->missingno) (1.11.0)\n",
      "Requirement already satisfied: python-dateutil>=2.0 in /opt/conda/lib/python3.6/site-packages (from matplotlib->missingno) (2.6.1)\n",
      "Requirement already satisfied: pytz in /opt/conda/lib/python3.6/site-packages (from matplotlib->missingno) (2017.3)\n",
      "Requirement already satisfied: cycler>=0.10 in /opt/conda/lib/python3.6/site-packages/cycler-0.10.0-py3.6.egg (from matplotlib->missingno) (0.10.0)\n",
      "Requirement already satisfied: pyparsing!=2.0.4,!=2.1.2,!=2.1.6,>=2.0.1 in /opt/conda/lib/python3.6/site-packages (from matplotlib->missingno) (2.2.0)\n",
      "Requirement already satisfied: pandas in /opt/conda/lib/python3.6/site-packages (from seaborn->missingno) (0.23.3)\n",
      "Installing collected packages: missingno\n",
      "Successfully installed missingno-0.5.0\n"
     ]
    }
   ],
   "source": [
    "!pip install missingno"
   ]
  },
  {
   "cell_type": "code",
   "execution_count": 2,
   "metadata": {},
   "outputs": [],
   "source": [
    "# import libraries here; add more as necessary\n",
    "import numpy as np\n",
    "import pandas as pd\n",
    "import matplotlib.pyplot as plt\n",
    "import seaborn as sns\n",
    "from sklearn.preprocessing import StandardScaler\n",
    "from sklearn.decomposition import PCA\n",
    "from sklearn.cluster import KMeans\n",
    "from collections import Counter\n",
    "\n",
    "# magic word for producing visualizations in notebook\n",
    "%matplotlib inline\n"
   ]
  },
  {
   "cell_type": "markdown",
   "metadata": {},
   "source": [
    "### Step 0: Load the Data\n",
    "\n",
    "There are four files associated with this project (not including this one):\n",
    "\n",
    "- `Udacity_AZDIAS_Subset.csv`: Demographics data for the general population of Germany; 891211 persons (rows) x 85 features (columns).\n",
    "- `Udacity_CUSTOMERS_Subset.csv`: Demographics data for customers of a mail-order company; 191652 persons (rows) x 85 features (columns).\n",
    "- `Data_Dictionary.md`: Detailed information file about the features in the provided datasets.\n",
    "- `AZDIAS_Feature_Summary.csv`: Summary of feature attributes for demographics data; 85 features (rows) x 4 columns\n",
    "\n",
    "Each row of the demographics files represents a single person, but also includes information outside of individuals, including information about their household, building, and neighborhood. I have used this information to cluster the general population into groups with similar demographic properties. Then, I have looked at how the people in the customers dataset fit into those created clusters. The hope here is that certain clusters are over-represented in the customers data, as compared to the general population; those over-represented clusters will be assumed to be part of the core userbase. This information can then be used for further applications, such as targeting for a marketing campaign."
   ]
  },
  {
   "cell_type": "code",
   "execution_count": 3,
   "metadata": {},
   "outputs": [],
   "source": [
    "# Load in the general demographics data.\n",
    "azdias = pd.read_csv(\"Udacity_AZDIAS_Subset.csv\", sep=';')\n",
    "\n",
    "# Load in the feature summary file.\n",
    "feat_info = pd.read_csv(\"AZDIAS_Feature_Summary.csv\", sep=';')"
   ]
  },
  {
   "cell_type": "code",
   "execution_count": 5,
   "metadata": {},
   "outputs": [
    {
     "name": "stdout",
     "output_type": "stream",
     "text": [
      "   AGER_TYP  ALTERSKATEGORIE_GROB  ANREDE_KZ  CJT_GESAMTTYP  \\\n",
      "0        -1                     2          1            2.0   \n",
      "1        -1                     1          2            5.0   \n",
      "2        -1                     3          2            3.0   \n",
      "3         2                     4          2            2.0   \n",
      "4        -1                     3          1            5.0   \n",
      "\n",
      "   FINANZ_MINIMALIST  FINANZ_SPARER  FINANZ_VORSORGER  FINANZ_ANLEGER  \\\n",
      "0                  3              4                 3               5   \n",
      "1                  1              5                 2               5   \n",
      "2                  1              4                 1               2   \n",
      "3                  4              2                 5               2   \n",
      "4                  4              3                 4               1   \n",
      "\n",
      "   FINANZ_UNAUFFAELLIGER  FINANZ_HAUSBAUER    ...     PLZ8_ANTG1  PLZ8_ANTG2  \\\n",
      "0                      5                 3    ...            NaN         NaN   \n",
      "1                      4                 5    ...            2.0         3.0   \n",
      "2                      3                 5    ...            3.0         3.0   \n",
      "3                      1                 2    ...            2.0         2.0   \n",
      "4                      3                 2    ...            2.0         4.0   \n",
      "\n",
      "   PLZ8_ANTG3  PLZ8_ANTG4  PLZ8_BAUMAX  PLZ8_HHZ  PLZ8_GBZ  ARBEIT  \\\n",
      "0         NaN         NaN          NaN       NaN       NaN     NaN   \n",
      "1         2.0         1.0          1.0       5.0       4.0     3.0   \n",
      "2         1.0         0.0          1.0       4.0       4.0     3.0   \n",
      "3         2.0         0.0          1.0       3.0       4.0     2.0   \n",
      "4         2.0         1.0          2.0       3.0       3.0     4.0   \n",
      "\n",
      "   ORTSGR_KLS9  RELAT_AB  \n",
      "0          NaN       NaN  \n",
      "1          5.0       4.0  \n",
      "2          5.0       2.0  \n",
      "3          3.0       3.0  \n",
      "4          6.0       5.0  \n",
      "\n",
      "[5 rows x 85 columns]\n",
      "(891221, 85)\n",
      "            AGER_TYP  ALTERSKATEGORIE_GROB      ANREDE_KZ  CJT_GESAMTTYP  \\\n",
      "count  891221.000000         891221.000000  891221.000000  886367.000000   \n",
      "mean       -0.358435              2.777398       1.522098       3.632838   \n",
      "std         1.198724              1.068775       0.499512       1.595021   \n",
      "min        -1.000000              1.000000       1.000000       1.000000   \n",
      "25%        -1.000000              2.000000       1.000000       2.000000   \n",
      "50%        -1.000000              3.000000       2.000000       4.000000   \n",
      "75%        -1.000000              4.000000       2.000000       5.000000   \n",
      "max         3.000000              9.000000       2.000000       6.000000   \n",
      "\n",
      "       FINANZ_MINIMALIST  FINANZ_SPARER  FINANZ_VORSORGER  FINANZ_ANLEGER  \\\n",
      "count      891221.000000  891221.000000     891221.000000   891221.000000   \n",
      "mean            3.074528       2.821039          3.401106        3.033328   \n",
      "std             1.321055       1.464749          1.322134        1.529603   \n",
      "min             1.000000       1.000000          1.000000        1.000000   \n",
      "25%             2.000000       1.000000          3.000000        2.000000   \n",
      "50%             3.000000       3.000000          3.000000        3.000000   \n",
      "75%             4.000000       4.000000          5.000000        5.000000   \n",
      "max             5.000000       5.000000          5.000000        5.000000   \n",
      "\n",
      "       FINANZ_UNAUFFAELLIGER  FINANZ_HAUSBAUER      ...          PLZ8_ANTG1  \\\n",
      "count          891221.000000     891221.000000      ...       774706.000000   \n",
      "mean                2.874167          3.075121      ...            2.253330   \n",
      "std                 1.486731          1.353248      ...            0.972008   \n",
      "min                 1.000000          1.000000      ...            0.000000   \n",
      "25%                 2.000000          2.000000      ...            1.000000   \n",
      "50%                 3.000000          3.000000      ...            2.000000   \n",
      "75%                 4.000000          4.000000      ...            3.000000   \n",
      "max                 5.000000          5.000000      ...            4.000000   \n",
      "\n",
      "          PLZ8_ANTG2     PLZ8_ANTG3     PLZ8_ANTG4    PLZ8_BAUMAX  \\\n",
      "count  774706.000000  774706.000000  774706.000000  774706.000000   \n",
      "mean        2.801858       1.595426       0.699166       1.943913   \n",
      "std         0.920309       0.986736       0.727137       1.459654   \n",
      "min         0.000000       0.000000       0.000000       1.000000   \n",
      "25%         2.000000       1.000000       0.000000       1.000000   \n",
      "50%         3.000000       2.000000       1.000000       1.000000   \n",
      "75%         3.000000       2.000000       1.000000       3.000000   \n",
      "max         4.000000       3.000000       2.000000       5.000000   \n",
      "\n",
      "            PLZ8_HHZ       PLZ8_GBZ         ARBEIT    ORTSGR_KLS9  \\\n",
      "count  774706.000000  774706.000000  794005.000000  794005.000000   \n",
      "mean        3.612821       3.381087       3.167854       5.293002   \n",
      "std         0.973967       1.111598       1.002376       2.303739   \n",
      "min         1.000000       1.000000       1.000000       0.000000   \n",
      "25%         3.000000       3.000000       3.000000       4.000000   \n",
      "50%         4.000000       3.000000       3.000000       5.000000   \n",
      "75%         4.000000       4.000000       4.000000       7.000000   \n",
      "max         5.000000       5.000000       9.000000       9.000000   \n",
      "\n",
      "           RELAT_AB  \n",
      "count  794005.00000  \n",
      "mean        3.07222  \n",
      "std         1.36298  \n",
      "min         1.00000  \n",
      "25%         2.00000  \n",
      "50%         3.00000  \n",
      "75%         4.00000  \n",
      "max         9.00000  \n",
      "\n",
      "[8 rows x 81 columns]\n"
     ]
    }
   ],
   "source": [
    "# Check the structure of the data after it's loaded (e.g. print the number of\n",
    "# rows and columns, print the first few rows).\n",
    "print(azdias.head())\n",
    "print(azdias.shape)\n",
    "print(azdias.describe())"
   ]
  },
  {
   "cell_type": "code",
   "execution_count": 6,
   "metadata": {},
   "outputs": [
    {
     "name": "stdout",
     "output_type": "stream",
     "text": [
      "              attribute information_level         type missing_or_unknown\n",
      "0              AGER_TYP            person  categorical             [-1,0]\n",
      "1  ALTERSKATEGORIE_GROB            person      ordinal           [-1,0,9]\n",
      "2             ANREDE_KZ            person  categorical             [-1,0]\n",
      "3         CJT_GESAMTTYP            person  categorical                [0]\n",
      "4     FINANZ_MINIMALIST            person      ordinal               [-1]\n",
      "(85, 4)\n"
     ]
    }
   ],
   "source": [
    "print(feat_info.head())\n",
    "print(feat_info.shape)"
   ]
  },
  {
   "cell_type": "markdown",
   "metadata": {},
   "source": [
    "## Step 1: Preprocessing\n",
    "\n",
    "### Step 1.1: Assess Missing Data\n",
    "\n",
    "The feature summary file contains a summary of properties for each demographics data column. I have used this file to make cleaning decisions during this stage of the project. First of all, I have assessed the demographics data in terms of missing data. \n",
    "\n",
    "#### Step 1.1.1: Convert Missing Value Codes to NaNs\n",
    "The fourth column of the feature attributes summary (loaded in above as `feat_info`) documents the codes from the data dictionary that indicate missing or unknown data. While the file encodes this as a list (e.g. `[-1,0]`), this will get read in as a string object. \n",
    "I have converted data that matches a 'missing' or 'unknown' value code into a numpy NaN value. "
   ]
  },
  {
   "cell_type": "code",
   "execution_count": 7,
   "metadata": {},
   "outputs": [
    {
     "name": "stdout",
     "output_type": "stream",
     "text": [
      "AGER_TYP                      0\n",
      "ALTERSKATEGORIE_GROB          0\n",
      "ANREDE_KZ                     0\n",
      "CJT_GESAMTTYP              4854\n",
      "FINANZ_MINIMALIST             0\n",
      "FINANZ_SPARER                 0\n",
      "FINANZ_VORSORGER              0\n",
      "FINANZ_ANLEGER                0\n",
      "FINANZ_UNAUFFAELLIGER         0\n",
      "FINANZ_HAUSBAUER              0\n",
      "FINANZTYP                     0\n",
      "GEBURTSJAHR                   0\n",
      "GFK_URLAUBERTYP            4854\n",
      "GREEN_AVANTGARDE              0\n",
      "HEALTH_TYP                    0\n",
      "LP_LEBENSPHASE_FEIN        4854\n",
      "LP_LEBENSPHASE_GROB        4854\n",
      "LP_FAMILIE_FEIN            4854\n",
      "LP_FAMILIE_GROB            4854\n",
      "LP_STATUS_FEIN             4854\n",
      "LP_STATUS_GROB             4854\n",
      "NATIONALITAET_KZ              0\n",
      "PRAEGENDE_JUGENDJAHRE         0\n",
      "RETOURTYP_BK_S             4854\n",
      "SEMIO_SOZ                     0\n",
      "SEMIO_FAM                     0\n",
      "SEMIO_REL                     0\n",
      "SEMIO_MAT                     0\n",
      "SEMIO_VERT                    0\n",
      "SEMIO_LUST                    0\n",
      "                          ...  \n",
      "OST_WEST_KZ               93148\n",
      "WOHNLAGE                  93148\n",
      "CAMEO_DEUG_2015           98979\n",
      "CAMEO_DEU_2015            98979\n",
      "CAMEO_INTL_2015           98979\n",
      "KBA05_ANTG1              133324\n",
      "KBA05_ANTG2              133324\n",
      "KBA05_ANTG3              133324\n",
      "KBA05_ANTG4              133324\n",
      "KBA05_BAUMAX             133324\n",
      "KBA05_GBZ                133324\n",
      "BALLRAUM                  93740\n",
      "EWDICHTE                  93740\n",
      "INNENSTADT                93740\n",
      "GEBAEUDETYP_RASTER        93155\n",
      "KKK                      121196\n",
      "MOBI_REGIO               133324\n",
      "ONLINE_AFFINITAET          4854\n",
      "REGIOTYP                 121196\n",
      "KBA13_ANZAHL_PKW         105800\n",
      "PLZ8_ANTG1               116515\n",
      "PLZ8_ANTG2               116515\n",
      "PLZ8_ANTG3               116515\n",
      "PLZ8_ANTG4               116515\n",
      "PLZ8_BAUMAX              116515\n",
      "PLZ8_HHZ                 116515\n",
      "PLZ8_GBZ                 116515\n",
      "ARBEIT                    97216\n",
      "ORTSGR_KLS9               97216\n",
      "RELAT_AB                  97216\n",
      "Length: 85, dtype: int64\n",
      "Percentage of naturally missing values is  AGER_TYP                  0.000000\n",
      "ALTERSKATEGORIE_GROB      0.000000\n",
      "ANREDE_KZ                 0.000000\n",
      "CJT_GESAMTTYP             0.547629\n",
      "FINANZ_MINIMALIST         0.000000\n",
      "FINANZ_SPARER             0.000000\n",
      "FINANZ_VORSORGER          0.000000\n",
      "FINANZ_ANLEGER            0.000000\n",
      "FINANZ_UNAUFFAELLIGER     0.000000\n",
      "FINANZ_HAUSBAUER          0.000000\n",
      "FINANZTYP                 0.000000\n",
      "GEBURTSJAHR               0.000000\n",
      "GFK_URLAUBERTYP           0.547629\n",
      "GREEN_AVANTGARDE          0.000000\n",
      "HEALTH_TYP                0.000000\n",
      "LP_LEBENSPHASE_FEIN       0.547629\n",
      "LP_LEBENSPHASE_GROB       0.547629\n",
      "LP_FAMILIE_FEIN           0.547629\n",
      "LP_FAMILIE_GROB           0.547629\n",
      "LP_STATUS_FEIN            0.547629\n",
      "LP_STATUS_GROB            0.547629\n",
      "NATIONALITAET_KZ          0.000000\n",
      "PRAEGENDE_JUGENDJAHRE     0.000000\n",
      "RETOURTYP_BK_S            0.547629\n",
      "SEMIO_SOZ                 0.000000\n",
      "SEMIO_FAM                 0.000000\n",
      "SEMIO_REL                 0.000000\n",
      "SEMIO_MAT                 0.000000\n",
      "SEMIO_VERT                0.000000\n",
      "SEMIO_LUST                0.000000\n",
      "                           ...    \n",
      "OST_WEST_KZ              11.671614\n",
      "WOHNLAGE                 11.671614\n",
      "CAMEO_DEUG_2015          12.493531\n",
      "CAMEO_DEU_2015           12.493531\n",
      "CAMEO_INTL_2015          12.493531\n",
      "KBA05_ANTG1              17.591309\n",
      "KBA05_ANTG2              17.591309\n",
      "KBA05_ANTG3              17.591309\n",
      "KBA05_ANTG4              17.591309\n",
      "KBA05_BAUMAX             17.591309\n",
      "KBA05_GBZ                17.591309\n",
      "BALLRAUM                 11.754512\n",
      "EWDICHTE                 11.754512\n",
      "INNENSTADT               11.754512\n",
      "GEBAEUDETYP_RASTER       11.672593\n",
      "KKK                      15.739229\n",
      "MOBI_REGIO               17.591309\n",
      "ONLINE_AFFINITAET         0.547629\n",
      "REGIOTYP                 15.739229\n",
      "KBA13_ANZAHL_PKW         13.470483\n",
      "PLZ8_ANTG1               15.039899\n",
      "PLZ8_ANTG2               15.039899\n",
      "PLZ8_ANTG3               15.039899\n",
      "PLZ8_ANTG4               15.039899\n",
      "PLZ8_BAUMAX              15.039899\n",
      "PLZ8_HHZ                 15.039899\n",
      "PLZ8_GBZ                 15.039899\n",
      "ARBEIT                   12.243752\n",
      "ORTSGR_KLS9              12.243752\n",
      "RELAT_AB                 12.243752\n",
      "Length: 85, dtype: float64\n"
     ]
    }
   ],
   "source": [
    "# Identify missing or unknown data values and convert them to NaNs.\n",
    "# These data are naturally missing\n",
    "print(azdias.isnull().sum())\n",
    "print(\"Percentage of naturally missing values is \", azdias.isnull().sum() / azdias.count() * 100)"
   ]
  },
  {
   "cell_type": "code",
   "execution_count": 8,
   "metadata": {},
   "outputs": [
    {
     "name": "stdout",
     "output_type": "stream",
     "text": [
      "   AGER_TYP  ALTERSKATEGORIE_GROB  ANREDE_KZ  CJT_GESAMTTYP  \\\n",
      "0       NaN                   2.0          1            2.0   \n",
      "1       NaN                   1.0          2            5.0   \n",
      "2       NaN                   3.0          2            3.0   \n",
      "3       2.0                   4.0          2            2.0   \n",
      "4       NaN                   3.0          1            5.0   \n",
      "\n",
      "   FINANZ_MINIMALIST  FINANZ_SPARER  FINANZ_VORSORGER  FINANZ_ANLEGER  \\\n",
      "0                  3              4                 3               5   \n",
      "1                  1              5                 2               5   \n",
      "2                  1              4                 1               2   \n",
      "3                  4              2                 5               2   \n",
      "4                  4              3                 4               1   \n",
      "\n",
      "   FINANZ_UNAUFFAELLIGER  FINANZ_HAUSBAUER    ...     PLZ8_ANTG1  PLZ8_ANTG2  \\\n",
      "0                      5                 3    ...            NaN         NaN   \n",
      "1                      4                 5    ...            2.0         3.0   \n",
      "2                      3                 5    ...            3.0         3.0   \n",
      "3                      1                 2    ...            2.0         2.0   \n",
      "4                      3                 2    ...            2.0         4.0   \n",
      "\n",
      "   PLZ8_ANTG3  PLZ8_ANTG4  PLZ8_BAUMAX  PLZ8_HHZ  PLZ8_GBZ  ARBEIT  \\\n",
      "0         NaN         NaN          NaN       NaN       NaN     NaN   \n",
      "1         2.0         1.0          1.0       5.0       4.0     3.0   \n",
      "2         1.0         0.0          1.0       4.0       4.0     3.0   \n",
      "3         2.0         0.0          1.0       3.0       4.0     2.0   \n",
      "4         2.0         1.0          2.0       3.0       3.0     4.0   \n",
      "\n",
      "   ORTSGR_KLS9  RELAT_AB  \n",
      "0          NaN       NaN  \n",
      "1          5.0       4.0  \n",
      "2          5.0       2.0  \n",
      "3          3.0       3.0  \n",
      "4          6.0       5.0  \n",
      "\n",
      "[5 rows x 85 columns]\n"
     ]
    }
   ],
   "source": [
    "# Use the missing data feature column to sort missing values for each column\n",
    "values = ['-1', '-3', '0','1','2','3','4','5','6','7','8','9']\n",
    "\n",
    "for column in range(85): # loop over the column indexes\n",
    "    missing = feat_info.iloc[column][3] # pull out the missing data codes for each column in the loop\n",
    "    missing = missing.strip('[') # formatting\n",
    "    missing = missing.strip(']') # formatting\n",
    "    missing = missing.split(sep=',') # formatting\n",
    "    for i in range(len(missing)): # loop over each code stored in missing\n",
    "        if missing[i] in values: # if the code is in the values list\n",
    "                missing[i] = int(missing[i]) # change to an integer\n",
    "    if(missing!=['']): # if missing is not empty\n",
    "        azdias = azdias.replace({feat_info.iloc[column][0]: missing}, np.nan) # replace with nan\n",
    "        \n",
    "print(azdias.head())"
   ]
  },
  {
   "cell_type": "markdown",
   "metadata": {},
   "source": [
    "#### Step 1.1.2: Assess Missing Data in Each Column\n",
    "\n",
    "Here I am checking how much missing data is present in each column. For this project, I have decided to remove columns with a lot of missing data from the dataframe. \n"
   ]
  },
  {
   "cell_type": "code",
   "execution_count": 9,
   "metadata": {},
   "outputs": [
    {
     "name": "stdout",
     "output_type": "stream",
     "text": [
      "TITEL_KZ                 99.757636\n",
      "AGER_TYP                 76.955435\n",
      "KK_KUNDENTYP             65.596749\n",
      "KBA05_BAUMAX             53.468668\n",
      "GEBURTSJAHR              44.020282\n",
      "ALTER_HH                 34.813699\n",
      "REGIOTYP                 17.735668\n",
      "KKK                      17.735668\n",
      "W_KEIT_KIND_HH           16.605084\n",
      "KBA05_ANTG4              14.959701\n",
      "KBA05_GBZ                14.959701\n",
      "MOBI_REGIO               14.959701\n",
      "KBA05_ANTG1              14.959701\n",
      "KBA05_ANTG2              14.959701\n",
      "KBA05_ANTG3              14.959701\n",
      "PLZ8_GBZ                 13.073637\n",
      "PLZ8_HHZ                 13.073637\n",
      "PLZ8_BAUMAX              13.073637\n",
      "PLZ8_ANTG4               13.073637\n",
      "PLZ8_ANTG1               13.073637\n",
      "PLZ8_ANTG3               13.073637\n",
      "PLZ8_ANTG2               13.073637\n",
      "SHOPPER_TYP              12.476816\n",
      "VERS_TYP                 12.476816\n",
      "HEALTH_TYP               12.476816\n",
      "NATIONALITAET_KZ         12.153551\n",
      "PRAEGENDE_JUGENDJAHRE    12.136608\n",
      "KBA13_ANZAHL_PKW         11.871354\n",
      "ANZ_HAUSHALTE_AKTIV      11.176913\n",
      "CAMEO_INTL_2015          11.147852\n",
      "                           ...    \n",
      "RETOURTYP_BK_S            0.544646\n",
      "ONLINE_AFFINITAET         0.544646\n",
      "LP_STATUS_FEIN            0.544646\n",
      "LP_STATUS_GROB            0.544646\n",
      "GFK_URLAUBERTYP           0.544646\n",
      "ALTERSKATEGORIE_GROB      0.323264\n",
      "FINANZTYP                 0.000000\n",
      "GREEN_AVANTGARDE          0.000000\n",
      "FINANZ_HAUSBAUER          0.000000\n",
      "FINANZ_UNAUFFAELLIGER     0.000000\n",
      "FINANZ_ANLEGER            0.000000\n",
      "FINANZ_SPARER             0.000000\n",
      "FINANZ_MINIMALIST         0.000000\n",
      "ANREDE_KZ                 0.000000\n",
      "FINANZ_VORSORGER          0.000000\n",
      "SEMIO_FAM                 0.000000\n",
      "SEMIO_SOZ                 0.000000\n",
      "SEMIO_REL                 0.000000\n",
      "SEMIO_MAT                 0.000000\n",
      "SEMIO_VERT                0.000000\n",
      "SEMIO_LUST                0.000000\n",
      "SEMIO_ERL                 0.000000\n",
      "SEMIO_KULT                0.000000\n",
      "SEMIO_RAT                 0.000000\n",
      "SEMIO_KRIT                0.000000\n",
      "SEMIO_DOM                 0.000000\n",
      "SEMIO_KAEM                0.000000\n",
      "SEMIO_PFLICHT             0.000000\n",
      "SEMIO_TRADV               0.000000\n",
      "ZABEOTYP                  0.000000\n",
      "Length: 85, dtype: float64\n"
     ]
    }
   ],
   "source": [
    "# Perform an assessment of how much missing data there is in each column of the\n",
    "# dataset.\n",
    "missing_data = (azdias.isnull().sum() / len(azdias) * 100).sort_values(ascending=False)\n",
    "print(missing_data)"
   ]
  },
  {
   "cell_type": "code",
   "execution_count": 10,
   "metadata": {},
   "outputs": [
    {
     "data": {
      "image/png": "[encoded data removed]",
      "text/plain": [
       "<matplotlib.figure.Figure at 0x7f405af63ac8>"
      ]
     },
     "metadata": {
      "needs_background": "light"
     },
     "output_type": "display_data"
    }
   ],
   "source": [
    "# Investigate patterns in the amount of missing data in each column.\n",
    "plt.hist(missing_data, bins=30)\n",
    "plt.title(\"Percentage of Missing Values for each column\");\n",
    "plt.ylabel(\"Number of features\");\n",
    "plt.xlabel(\"Percentage missing\");"
   ]
  },
  {
   "cell_type": "markdown",
   "metadata": {},
   "source": [
    "This plot shows that the majority of columns/features have less than 20% missing data, so we can keep those features for further analyses. However some features have up to 100% missing data and so we will drop those features as they will not be helpful in analysis. "
   ]
  },
  {
   "cell_type": "code",
   "execution_count": 11,
   "metadata": {},
   "outputs": [
    {
     "name": "stdout",
     "output_type": "stream",
     "text": [
      "(891221, 79)\n"
     ]
    }
   ],
   "source": [
    "# Remove features with more than 30% missing data\n",
    "to_drop = pd.DataFrame(missing_data[missing_data > 30])\n",
    "to_keep = pd.DataFrame(missing_data[missing_data < 30])\n",
    "to_keep_list = to_keep.index\n",
    "azdias_dropped = azdias[to_keep_list]\n",
    "print(azdias_dropped.shape)"
   ]
  },
  {
   "cell_type": "code",
   "execution_count": 12,
   "metadata": {
    "scrolled": true
   },
   "outputs": [
    {
     "data": {
      "image/png": "[encoded data removed]",
      "text/plain": [
       "<matplotlib.figure.Figure at 0x7f4058c3c470>"
      ]
     },
     "metadata": {
      "needs_background": "light"
     },
     "output_type": "display_data"
    }
   ],
   "source": [
    "# Visualise patterns in missing data to get an idea of whether they are related\n",
    "import missingno as msno\n",
    "msno.matrix(azdias_dropped)\n",
    "plt.show()"
   ]
  },
  {
   "cell_type": "markdown",
   "metadata": {},
   "source": [
    "#### Discussion 1.1.2: Assess Missing Data in Each Column\n",
    "\n",
    "It looks as though quite a lot of the missing data is missing consistently across different fields. This probably means that there is a systematic reason for it e.g. some sets of data were not collected on certain dates.\n"
   ]
  },
  {
   "cell_type": "code",
   "execution_count": 13,
   "metadata": {},
   "outputs": [
    {
     "name": "stdout",
     "output_type": "stream",
     "text": [
      "Index(['This field has been dropped from the dataset TITEL_KZ',\n",
      "       'This field has been dropped from the dataset AGER_TYP',\n",
      "       'This field has been dropped from the dataset KK_KUNDENTYP',\n",
      "       'This field has been dropped from the dataset KBA05_BAUMAX',\n",
      "       'This field has been dropped from the dataset GEBURTSJAHR',\n",
      "       'This field has been dropped from the dataset ALTER_HH'],\n",
      "      dtype='object')\n"
     ]
    }
   ],
   "source": [
    "print(\"This field has been dropped from the dataset \" + to_drop.index)"
   ]
  },
  {
   "cell_type": "markdown",
   "metadata": {},
   "source": [
    "#### Step 1.1.3: Assess Missing Data in Each Row\n",
    "\n",
    "I have performed a similar assessment for the rows of the dataset to find out how much data is missing in each row? "
   ]
  },
  {
   "cell_type": "code",
   "execution_count": 14,
   "metadata": {},
   "outputs": [
    {
     "data": {
      "image/png": "[encoded data removed]",
      "text/plain": [
       "<matplotlib.figure.Figure at 0x7f40430d9978>"
      ]
     },
     "metadata": {
      "needs_background": "light"
     },
     "output_type": "display_data"
    }
   ],
   "source": [
    "# How much data is missing in each row of the dataset?\n",
    "plt.hist(azdias_dropped.isnull().sum(axis=1),bins=60)\n",
    "plt.title(\"Missing Values Per feature\");\n",
    "plt.ylabel(\"Number of rows\");\n",
    "plt.xlabel(\"Number of missing features\");"
   ]
  },
  {
   "cell_type": "code",
   "execution_count": 15,
   "metadata": {},
   "outputs": [
    {
     "name": "stdout",
     "output_type": "stream",
     "text": [
      "(666873, 79)\n",
      "(224348, 79)\n"
     ]
    }
   ],
   "source": [
    "# divide the data into two subsets based on the number of missing values in each row.\n",
    "missing_vals_row = azdias_dropped.isnull().sum(axis=1)\n",
    "high_missing_vals = azdias_dropped[azdias_dropped.isnull().sum(axis=1) > 2]\n",
    "low_missing_vals = azdias_dropped[azdias_dropped.isnull().sum(axis=1) <= 2]\n",
    "\n",
    "print(low_missing_vals.shape)\n",
    "print(high_missing_vals.shape)"
   ]
  },
  {
   "cell_type": "code",
   "execution_count": 16,
   "metadata": {},
   "outputs": [
    {
     "name": "stdout",
     "output_type": "stream",
     "text": [
      "(85, 4)\n",
      "(666873, 79)\n"
     ]
    }
   ],
   "source": [
    "print(feat_info.shape)\n",
    "print(low_missing_vals.shape)"
   ]
  },
  {
   "cell_type": "code",
   "execution_count": 17,
   "metadata": {},
   "outputs": [
    {
     "data": {
      "text/plain": [
       "['FINANZTYP',\n",
       " 'GREEN_AVANTGARDE',\n",
       " 'FINANZ_HAUSBAUER',\n",
       " 'FINANZ_UNAUFFAELLIGER',\n",
       " 'FINANZ_ANLEGER',\n",
       " 'FINANZ_SPARER',\n",
       " 'FINANZ_MINIMALIST',\n",
       " 'ANREDE_KZ',\n",
       " 'FINANZ_VORSORGER',\n",
       " 'SEMIO_FAM',\n",
       " 'SEMIO_SOZ',\n",
       " 'SEMIO_REL',\n",
       " 'SEMIO_MAT',\n",
       " 'SEMIO_VERT',\n",
       " 'SEMIO_LUST',\n",
       " 'SEMIO_ERL',\n",
       " 'SEMIO_KULT',\n",
       " 'SEMIO_RAT']"
      ]
     },
     "execution_count": 17,
     "metadata": {},
     "output_type": "execute_result"
    }
   ],
   "source": [
    "# Compare the distribution of values for at least five columns where there are\n",
    "# no or few missing values, between the two subsets.\n",
    "\n",
    "# Find the columns where there are no missing values\n",
    "no_missing = []\n",
    "for i in range(79):\n",
    "    if(missing_data[i]==0):\n",
    "        no_missing.append(missing_data.index[i])\n",
    "no_missing    "
   ]
  },
  {
   "cell_type": "code",
   "execution_count": 18,
   "metadata": {},
   "outputs": [
    {
     "data": {
      "image/png": "[encoded data removed]",
      "text/plain": [
       "<matplotlib.figure.Figure at 0x7f404145ac18>"
      ]
     },
     "metadata": {
      "needs_background": "light"
     },
     "output_type": "display_data"
    }
   ],
   "source": [
    "fig, axs = plt.subplots(10, figsize=(5,19)) # create 10 subplots and set size of the plots\n",
    "fig.subplots_adjust(hspace = 2, wspace=.2)\n",
    "for i in range(10):\n",
    "    if(i%2==0):\n",
    "        sns.countplot(low_missing_vals[no_missing[i]], ax=axs[i])\n",
    "        axs[i].set_title('low missing values (per row)')\n",
    "        sns.countplot(high_missing_vals[no_missing[i]], ax=axs[i+1])\n",
    "        axs[i+1].set_title('high missing values (per row)')\n",
    "    continue\n"
   ]
  },
  {
   "cell_type": "markdown",
   "metadata": {},
   "source": [
    "#### Discussion 1.1.3: Assess Missing Data in Each Row\n",
    "\n",
    "There does appear to be a different distribution of data for the low missingness and high missingness subsets of the data. For example, looking at the FINANZ_VORSORGER feature shows that in the high missingness group the majority of data is coded with the value 3, this pattern is not replicated in the low missingness subset and in fact those data are more skewed towards values 4 and 5. This might suggest a reason for missingness of other features, however this would require further exploration and expert knowledge on each feature and their relationships. "
   ]
  },
  {
   "cell_type": "markdown",
   "metadata": {},
   "source": [
    "### Step 1.2: Select and Re-Encode Features\n",
    "\n",
    "Since the unsupervised learning techniques to be used will only work on data that is encoded numerically, I have made a few encoding changes or additional assumptions to be able to make progress. In addition, while almost all of the values in the dataset are encoded using numbers, not all of them represent numeric values. The third column of the feature summary (`feat_info`) provides a summary of types of measurement.\n",
    "- For numeric and interval data, these features can be kept without changes.\n",
    "- Most of the variables in the dataset are ordinal in nature. While ordinal values may technically be non-linear in spacing, make the simplifying assumption that the ordinal variables can be treated as being interval in nature (that is, kept without any changes).\n",
    "- Special handling may be necessary for the remaining two variable types: categorical, and 'mixed'.\n"
   ]
  },
  {
   "cell_type": "code",
   "execution_count": 19,
   "metadata": {},
   "outputs": [
    {
     "name": "stdout",
     "output_type": "stream",
     "text": [
      "ordinal        49\n",
      "categorical    18\n",
      "mixed           6\n",
      "numeric         6\n",
      "Name: type, dtype: int64\n",
      "(79, 4)\n",
      "(666873, 79)\n"
     ]
    }
   ],
   "source": [
    "# How many features are there of each data type e.g. binary, categorical?\n",
    "features = list(low_missing_vals.columns)\n",
    "feat_info = feat_info[feat_info.attribute.isin(features)]\n",
    "print(feat_info.type.value_counts(dropna=False))\n",
    "print(feat_info.shape)\n",
    "print(low_missing_vals.shape)\n"
   ]
  },
  {
   "cell_type": "markdown",
   "metadata": {},
   "source": [
    "#### Step 1.2.1: Re-Encode Categorical Features\n",
    "\n",
    "For categorical data, you would ordinarily need to encode the levels as dummy variables. Depending on the number of categories, perform one of the following:\n",
    "- For binary (two-level) categoricals that take numeric values, they have been kept without needing to do anything.\n",
    "- There is one binary variable that takes on non-numeric values. For this one, I have re-encoded the values as numbers.\n",
    "- For multi-level categoricals (three or more values), I have kept things simple by removing them from the analysis."
   ]
  },
  {
   "cell_type": "code",
   "execution_count": 20,
   "metadata": {},
   "outputs": [
    {
     "name": "stdout",
     "output_type": "stream",
     "text": [
      "           attribute information_level         type missing_or_unknown\n",
      "2          ANREDE_KZ            person  categorical             [-1,0]\n",
      "3      CJT_GESAMTTYP            person  categorical                [0]\n",
      "10         FINANZTYP            person  categorical               [-1]\n",
      "12   GFK_URLAUBERTYP            person  categorical                 []\n",
      "13  GREEN_AVANTGARDE            person  categorical                 []\n",
      "17   LP_FAMILIE_FEIN            person  categorical                [0]\n",
      "18   LP_FAMILIE_GROB            person  categorical                [0]\n",
      "19    LP_STATUS_FEIN            person  categorical                [0]\n",
      "20    LP_STATUS_GROB            person  categorical                [0]\n",
      "21  NATIONALITAET_KZ            person  categorical             [-1,0]\n",
      "38       SHOPPER_TYP            person  categorical               [-1]\n",
      "39           SOHO_KZ            person  categorical               [-1]\n",
      "41          VERS_TYP            person  categorical               [-1]\n",
      "42          ZABEOTYP            person  categorical             [-1,9]\n",
      "52       GEBAEUDETYP          building  categorical             [-1,0]\n",
      "55       OST_WEST_KZ          building  categorical               [-1]\n",
      "57   CAMEO_DEUG_2015     microcell_rr4  categorical             [-1,X]\n",
      "58    CAMEO_DEU_2015     microcell_rr4  categorical               [XX]\n"
     ]
    }
   ],
   "source": [
    "# Assess categorical variables: which are binary, which are multi-level, and\n",
    "# which one needs to be re-encoded?\n",
    "cat = feat_info[feat_info['type'] == 'categorical']\n",
    "print(cat)\n",
    "\n",
    "# Make a subset of cat data, and view possible values\n",
    "binary = []\n",
    "categorical = []\n",
    "\n",
    "for col in list(cat['attribute']):\n",
    "    if len(low_missing_vals[col].value_counts()) > 2:\n",
    "        categorical.append(col)\n",
    "    else:\n",
    "        binary.append(col)\n",
    "        \n"
   ]
  },
  {
   "cell_type": "code",
   "execution_count": 21,
   "metadata": {},
   "outputs": [
    {
     "name": "stdout",
     "output_type": "stream",
     "text": [
      "   ANREDE_KZ  GREEN_AVANTGARDE  SOHO_KZ  VERS_TYP OST_WEST_KZ\n",
      "1          2                 0      1.0       2.0           W\n",
      "2          2                 1      0.0       1.0           W\n",
      "4          1                 0      0.0       2.0           W\n",
      "5          2                 0      0.0       2.0           W\n",
      "6          2                 0      0.0       1.0           W\n"
     ]
    }
   ],
   "source": [
    "# Re-encode categorical variable(s) to be kept in the analysis.\n",
    "\n",
    "# Check which of the binary variables need to be re-encoded\n",
    "print(low_missing_vals[binary].head())"
   ]
  },
  {
   "cell_type": "code",
   "execution_count": 22,
   "metadata": {},
   "outputs": [
    {
     "name": "stderr",
     "output_type": "stream",
     "text": [
      "/opt/conda/lib/python3.6/site-packages/pandas/core/indexing.py:543: SettingWithCopyWarning: \n",
      "A value is trying to be set on a copy of a slice from a DataFrame.\n",
      "Try using .loc[row_indexer,col_indexer] = value instead\n",
      "\n",
      "See the caveats in the documentation: http://pandas.pydata.org/pandas-docs/stable/indexing.html#indexing-view-versus-copy\n",
      "  self.obj[item] = s\n"
     ]
    },
    {
     "data": {
      "text/plain": [
       "1    522103\n",
       "0    144770\n",
       "Name: OST_WEST_KZ, dtype: int64"
      ]
     },
     "execution_count": 22,
     "metadata": {},
     "output_type": "execute_result"
    }
   ],
   "source": [
    "# # Because the column named 'OST_WEST_KZ' is non-numerical it needs to be re-encoded\n",
    "\n",
    "# Re-encode to 0 and 1\n",
    "low_missing_vals.loc[:, 'OST_WEST_KZ'] = low_missing_vals.apply(lambda x : 1 if x['OST_WEST_KZ'] == 'W' else (0 if x['OST_WEST_KZ'] == 'O' else x), axis=1)\n",
    "low_missing_vals.OST_WEST_KZ.value_counts(dropna=False)"
   ]
  },
  {
   "cell_type": "code",
   "execution_count": 23,
   "metadata": {},
   "outputs": [
    {
     "name": "stdout",
     "output_type": "stream",
     "text": [
      "(666873, 66)\n"
     ]
    }
   ],
   "source": [
    "# Drop multi-level categorical data, for simplicity\n",
    "for col in categorical:\n",
    "    low_missing_vals=low_missing_vals.drop(col, axis=1)\n",
    "    \n",
    "print(low_missing_vals.shape)\n"
   ]
  },
  {
   "cell_type": "code",
   "execution_count": 24,
   "metadata": {},
   "outputs": [
    {
     "name": "stdout",
     "output_type": "stream",
     "text": [
      "              attribute information_level         type missing_or_unknown\n",
      "1  ALTERSKATEGORIE_GROB            person      ordinal           [-1,0,9]\n",
      "2             ANREDE_KZ            person  categorical             [-1,0]\n",
      "4     FINANZ_MINIMALIST            person      ordinal               [-1]\n",
      "5         FINANZ_SPARER            person      ordinal               [-1]\n",
      "6      FINANZ_VORSORGER            person      ordinal               [-1]\n",
      "(66, 4)\n",
      "(666873, 66)\n"
     ]
    }
   ],
   "source": [
    "# Update feat_info with the columns I have dropped\n",
    "features = list(low_missing_vals.columns)\n",
    "feat_info = feat_info[feat_info.attribute.isin(features)]\n",
    "feat_info.type.value_counts(dropna=False)\n",
    "print(feat_info.head())\n",
    "print(feat_info.shape)\n",
    "print(low_missing_vals.shape)\n"
   ]
  },
  {
   "cell_type": "markdown",
   "metadata": {},
   "source": [
    "#### Discussion 1.2.1: Re-Encode Categorical Features\n",
    "\n",
    "Of the binary categorical variables, only the OST_WEST_KZ column needed to be re-encoded as it was the only non-numeric encoding. I therefore used a lambda function to re-encode the values to 0's and 1's. \n",
    "\n",
    "For now I have decided to only use the binary data for the rest of the analysis, but I may wish to return to this later and see if the multi-level data can improve the modelling."
   ]
  },
  {
   "cell_type": "markdown",
   "metadata": {},
   "source": [
    "#### Step 1.2.2: Engineer Mixed-Type Features\n",
    "\n",
    "There are a handful of features that are marked as \"mixed\" in the feature summary that require special treatment in order to be included in the analysis. There are two in particular that deserved attention.\n",
    "- \"PRAEGENDE_JUGENDJAHRE\" combines information on three dimensions: generation by decade, movement (mainstream vs. avantgarde), and nation (east vs. west). While there aren't enough levels to disentangle east from west, I have created two new variables to capture the other two dimensions: an interval-type variable for decade, and a binary variable for movement.\n",
    "- \"CAMEO_INTL_2015\" combines information on two axes: wealth and life stage. Break up the two-digit codes by their 'tens'-place and 'ones'-place digits into two new ordinal variables (which, for the purposes of this project, is equivalent to just treating them as their raw numeric values).\n"
   ]
  },
  {
   "cell_type": "code",
   "execution_count": 25,
   "metadata": {},
   "outputs": [
    {
     "data": {
      "text/html": [
       "<div>\n",
       "<style scoped>\n",
       "    .dataframe tbody tr th:only-of-type {\n",
       "        vertical-align: middle;\n",
       "    }\n",
       "\n",
       "    .dataframe tbody tr th {\n",
       "        vertical-align: top;\n",
       "    }\n",
       "\n",
       "    .dataframe thead th {\n",
       "        text-align: right;\n",
       "    }\n",
       "</style>\n",
       "<table border=\"1\" class=\"dataframe\">\n",
       "  <thead>\n",
       "    <tr style=\"text-align: right;\">\n",
       "      <th></th>\n",
       "      <th>LP_LEBENSPHASE_FEIN</th>\n",
       "      <th>LP_LEBENSPHASE_GROB</th>\n",
       "      <th>PRAEGENDE_JUGENDJAHRE</th>\n",
       "      <th>WOHNLAGE</th>\n",
       "      <th>CAMEO_INTL_2015</th>\n",
       "      <th>PLZ8_BAUMAX</th>\n",
       "    </tr>\n",
       "  </thead>\n",
       "  <tbody>\n",
       "    <tr>\n",
       "      <th>1</th>\n",
       "      <td>21.0</td>\n",
       "      <td>6.0</td>\n",
       "      <td>14.0</td>\n",
       "      <td>4.0</td>\n",
       "      <td>51</td>\n",
       "      <td>1.0</td>\n",
       "    </tr>\n",
       "    <tr>\n",
       "      <th>2</th>\n",
       "      <td>3.0</td>\n",
       "      <td>1.0</td>\n",
       "      <td>15.0</td>\n",
       "      <td>2.0</td>\n",
       "      <td>24</td>\n",
       "      <td>1.0</td>\n",
       "    </tr>\n",
       "    <tr>\n",
       "      <th>4</th>\n",
       "      <td>32.0</td>\n",
       "      <td>10.0</td>\n",
       "      <td>8.0</td>\n",
       "      <td>3.0</td>\n",
       "      <td>43</td>\n",
       "      <td>2.0</td>\n",
       "    </tr>\n",
       "    <tr>\n",
       "      <th>5</th>\n",
       "      <td>8.0</td>\n",
       "      <td>2.0</td>\n",
       "      <td>3.0</td>\n",
       "      <td>7.0</td>\n",
       "      <td>54</td>\n",
       "      <td>1.0</td>\n",
       "    </tr>\n",
       "    <tr>\n",
       "      <th>6</th>\n",
       "      <td>2.0</td>\n",
       "      <td>1.0</td>\n",
       "      <td>10.0</td>\n",
       "      <td>5.0</td>\n",
       "      <td>22</td>\n",
       "      <td>1.0</td>\n",
       "    </tr>\n",
       "  </tbody>\n",
       "</table>\n",
       "</div>"
      ],
      "text/plain": [
       "   LP_LEBENSPHASE_FEIN  LP_LEBENSPHASE_GROB  PRAEGENDE_JUGENDJAHRE  WOHNLAGE  \\\n",
       "1                 21.0                  6.0                   14.0       4.0   \n",
       "2                  3.0                  1.0                   15.0       2.0   \n",
       "4                 32.0                 10.0                    8.0       3.0   \n",
       "5                  8.0                  2.0                    3.0       7.0   \n",
       "6                  2.0                  1.0                   10.0       5.0   \n",
       "\n",
       "  CAMEO_INTL_2015  PLZ8_BAUMAX  \n",
       "1              51          1.0  \n",
       "2              24          1.0  \n",
       "4              43          2.0  \n",
       "5              54          1.0  \n",
       "6              22          1.0  "
      ]
     },
     "execution_count": 25,
     "metadata": {},
     "output_type": "execute_result"
    }
   ],
   "source": [
    "# subset the mixed types\n",
    "mixed_types = feat_info[feat_info['type'] == 'mixed']['attribute']\n",
    "low_missing_vals[mixed_types].head()"
   ]
  },
  {
   "cell_type": "markdown",
   "metadata": {},
   "source": [
    "FOR QUICK REFERENCE: PRAEGENDE_JUGENDJAHRE\n",
    "Dominating movement of person's youth (avantgarde vs. mainstream; east vs. west)\n",
    "- -1: unknown\n",
    "-  0: unknown\n",
    "-  1: 40s - war years (Mainstream, E+W)\n",
    "-  2: 40s - reconstruction years (Avantgarde, E+W)\n",
    "-  3: 50s - economic miracle (Mainstream, E+W)\n",
    "-  4: 50s - milk bar / Individualisation (Avantgarde, E+W)\n",
    "-  5: 60s - economic miracle (Mainstream, E+W)\n",
    "-  6: 60s - generation 68 / student protestors (Avantgarde, W)\n",
    "-  7: 60s - opponents to the building of the Wall (Avantgarde, E)\n",
    "-  8: 70s - family orientation (Mainstream, E+W)\n",
    "-  9: 70s - peace movement (Avantgarde, E+W)\n",
    "- 10: 80s - Generation Golf (Mainstream, W)\n",
    "- 11: 80s - ecological awareness (Avantgarde, W)\n",
    "- 12: 80s - FDJ / communist party youth organisation (Mainstream, E)\n",
    "- 13: 80s - Swords into ploughshares (Avantgarde, E)\n",
    "- 14: 90s - digital media kids (Mainstream, E+W)\n",
    "- 15: 90s - ecological awareness (Avantgarde, E+W)"
   ]
  },
  {
   "cell_type": "code",
   "execution_count": 26,
   "metadata": {},
   "outputs": [
    {
     "name": "stdout",
     "output_type": "stream",
     "text": [
      "   DECADE  PRAEGENDE_JUGENDJAHRE\n",
      "1    90.0                   14.0\n",
      "2    90.0                   15.0\n",
      "4    70.0                    8.0\n",
      "5    50.0                    3.0\n",
      "6    80.0                   10.0\n"
     ]
    }
   ],
   "source": [
    "# Investigate \"PRAEGENDE_JUGENDJAHRE\" and engineer two new variables.\n",
    "# Re-code the values and create a new column for decade\n",
    "PRAEGENDE_JUGENDJAHRE_dict = {1:40, 2:40, 3:50,4:50,\n",
    "                             5:60, 6:60, 7:60,8:70, 9:70,\n",
    "                             10:80, 11:80, 12:80,13:80,\n",
    "                             14:90, 15:90}\n",
    "low_missing_vals['DECADE'] = low_missing_vals.PRAEGENDE_JUGENDJAHRE.map(PRAEGENDE_JUGENDJAHRE_dict)\n",
    "\n",
    "print(low_missing_vals[['DECADE', 'PRAEGENDE_JUGENDJAHRE']].head())"
   ]
  },
  {
   "cell_type": "code",
   "execution_count": 27,
   "metadata": {},
   "outputs": [
    {
     "name": "stdout",
     "output_type": "stream",
     "text": [
      "   MOVEMENT  PRAEGENDE_JUGENDJAHRE\n",
      "1       1.0                   14.0\n",
      "2       0.0                   15.0\n",
      "4       1.0                    8.0\n",
      "5       1.0                    3.0\n",
      "6       1.0                   10.0\n"
     ]
    }
   ],
   "source": [
    "# Re-code the values and create a new column for movement.\n",
    "PRAEGENDE_JUGENDJAHRE_dict2 = {1:1, 3:1, 5:1, 8:1, 10:1, 12:1,\n",
    "                              14:1, 2:0, 4:0, 6:0, 7:0, 9:0, 11:0,\n",
    "                              13:0, 15:0}\n",
    "\n",
    "\n",
    "low_missing_vals['MOVEMENT'] = low_missing_vals.PRAEGENDE_JUGENDJAHRE.map(PRAEGENDE_JUGENDJAHRE_dict2)\n",
    "\n",
    "print(low_missing_vals[['MOVEMENT', 'PRAEGENDE_JUGENDJAHRE']].head())   \n",
    "\n",
    "low_missing_vals = low_missing_vals.drop('PRAEGENDE_JUGENDJAHRE', axis=1)\n",
    "   "
   ]
  },
  {
   "cell_type": "code",
   "execution_count": 28,
   "metadata": {},
   "outputs": [
    {
     "name": "stdout",
     "output_type": "stream",
     "text": [
      "   REGIOTYP  KKK  W_KEIT_KIND_HH  KBA05_ANTG4  KBA05_GBZ  MOBI_REGIO  \\\n",
      "1       3.0  2.0             3.0          2.0        1.0         1.0   \n",
      "2       2.0  2.0             3.0          0.0        3.0         3.0   \n",
      "4       5.0  3.0             2.0          0.0        3.0         3.0   \n",
      "5       5.0  4.0             6.0          0.0        4.0         4.0   \n",
      "6       5.0  3.0             3.0          0.0        3.0         5.0   \n",
      "\n",
      "   KBA05_ANTG1  KBA05_ANTG2  KBA05_ANTG3  PLZ8_GBZ     ...      SEMIO_RAT  \\\n",
      "1          0.0          0.0          0.0       4.0     ...              6   \n",
      "2          1.0          3.0          1.0       4.0     ...              4   \n",
      "4          1.0          4.0          1.0       3.0     ...              2   \n",
      "5          2.0          2.0          0.0       5.0     ...              7   \n",
      "6          3.0          2.0          0.0       5.0     ...              7   \n",
      "\n",
      "   SEMIO_KRIT  SEMIO_DOM  SEMIO_KAEM  SEMIO_PFLICHT  SEMIO_TRADV  DECADE  \\\n",
      "1           4          7           4              7            6    90.0   \n",
      "2           7          7           7              3            3    90.0   \n",
      "4           3          2           2              4            2    70.0   \n",
      "5           4          4           4              7            6    50.0   \n",
      "6           7          4           7              7            7    80.0   \n",
      "\n",
      "   MOVEMENT  WEALTH  LIFE_STAGE  \n",
      "1       1.0       5           1  \n",
      "2       0.0       2           4  \n",
      "4       1.0       4           3  \n",
      "5       1.0       5           4  \n",
      "6       1.0       2           2  \n",
      "\n",
      "[5 rows x 68 columns]\n"
     ]
    }
   ],
   "source": [
    "# Investigate \"CAMEO_INTL_2015\" and engineer two new variables: WEALTH and LIFE_STAGE\n",
    "\n",
    "# Split this variable into two separate columns for 10's and 1's e.g. 51, split into 5 and 1\n",
    "string = list(low_missing_vals['CAMEO_INTL_2015'])\n",
    "WEALTH = []\n",
    "LIFE_STAGE = []\n",
    "\n",
    "for i in range (len(string)):\n",
    "    val=string[i]\n",
    "    if(type(val)==str):\n",
    "        WEALTH.append(int(val[0]))\n",
    "    else:\n",
    "        WEALTH.append(np.nan)\n",
    "\n",
    "for i in range (len(string)):\n",
    "    val=string[i]\n",
    "    if(type(val)==str):\n",
    "        LIFE_STAGE.append(int(val[1]))\n",
    "    else:\n",
    "        LIFE_STAGE.append(np.nan)\n",
    "\n",
    "        \n",
    "low_missing_vals['WEALTH'] = WEALTH\n",
    "low_missing_vals['LIFE_STAGE'] = LIFE_STAGE\n",
    "low_missing_vals = low_missing_vals.drop('CAMEO_INTL_2015', axis=1)\n",
    "print(low_missing_vals.head())\n"
   ]
  },
  {
   "cell_type": "code",
   "execution_count": 29,
   "metadata": {},
   "outputs": [
    {
     "name": "stdout",
     "output_type": "stream",
     "text": [
      "(66, 4)\n",
      "(666873, 68)\n"
     ]
    }
   ],
   "source": [
    "print(feat_info.shape)\n",
    "print(low_missing_vals.shape)"
   ]
  },
  {
   "cell_type": "code",
   "execution_count": 30,
   "metadata": {},
   "outputs": [
    {
     "name": "stdout",
     "output_type": "stream",
     "text": [
      "(666873, 65)\n"
     ]
    }
   ],
   "source": [
    "# Drop the other mixed data types\n",
    "low_missing_vals = low_missing_vals.drop('LP_LEBENSPHASE_FEIN', axis=1)\n",
    "low_missing_vals = low_missing_vals.drop('LP_LEBENSPHASE_GROB', axis=1)\n",
    "low_missing_vals = low_missing_vals.drop('WOHNLAGE', axis=1)\n",
    "print(low_missing_vals.shape)"
   ]
  },
  {
   "cell_type": "markdown",
   "metadata": {},
   "source": [
    "#### Discussion 1.2.2: Engineer Mixed-Type Features\n",
    "\n",
    "I have created four new columns which indicate the decade, political movement, wealth and life-stage. These columns take information from the 'PRAEGENDE_JUGENDJAHRE' and 'CAMEO_INTL_2015' columns, but they are now in a format which is going to be useful for modelling. \n",
    "\n",
    "Other mixed-value features which I have dropped include: 'LP_LEBENSPHASE_FEIN', 'LP_LEBENSPHASE_GROB', 'PRAEGENDE_JUGENDJAHRE', 'WOHNLAGE'. This is because the ordering of the encoded variables does not really make sense and so they cannot be treated as ordinal variables, they are also quite complex to break down into different variables so I have decided to leave them out of the anaylsis for now. \n",
    "\n",
    "The final mixed variable PLZ8_BAUMAX is fine to leave as it will be treated as an ordinal variable because the ordering of the code makes sense to do this.\n"
   ]
  },
  {
   "cell_type": "code",
   "execution_count": 31,
   "metadata": {},
   "outputs": [
    {
     "name": "stdout",
     "output_type": "stream",
     "text": [
      "1         0\n",
      "2         0\n",
      "4         0\n",
      "5         0\n",
      "6         0\n",
      "7         0\n",
      "8         0\n",
      "9         0\n",
      "10        0\n",
      "19        0\n",
      "21        0\n",
      "22        0\n",
      "27        0\n",
      "28        0\n",
      "29        2\n",
      "31        0\n",
      "32        0\n",
      "33        0\n",
      "36        0\n",
      "37        0\n",
      "38        0\n",
      "41        0\n",
      "42        2\n",
      "43        0\n",
      "44        0\n",
      "45        0\n",
      "47        0\n",
      "49        0\n",
      "50        0\n",
      "51        0\n",
      "         ..\n",
      "891183    0\n",
      "891186    0\n",
      "891188    0\n",
      "891189    0\n",
      "891190    0\n",
      "891191    0\n",
      "891192    0\n",
      "891193    0\n",
      "891194    0\n",
      "891195    0\n",
      "891196    0\n",
      "891197    0\n",
      "891198    0\n",
      "891199    0\n",
      "891200    0\n",
      "891201    0\n",
      "891202    0\n",
      "891204    0\n",
      "891205    0\n",
      "891206    0\n",
      "891207    0\n",
      "891209    0\n",
      "891210    0\n",
      "891211    0\n",
      "891212    0\n",
      "891213    0\n",
      "891214    0\n",
      "891215    0\n",
      "891219    0\n",
      "891220    0\n",
      "Length: 666873, dtype: int64\n",
      "REGIOTYP                 27656\n",
      "KKK                      27656\n",
      "W_KEIT_KIND_HH            7421\n",
      "KBA05_ANTG4                  0\n",
      "KBA05_GBZ                    0\n",
      "MOBI_REGIO                   0\n",
      "KBA05_ANTG1                  0\n",
      "KBA05_ANTG2                  0\n",
      "KBA05_ANTG3                  0\n",
      "PLZ8_GBZ                     0\n",
      "PLZ8_HHZ                     0\n",
      "PLZ8_BAUMAX                  0\n",
      "PLZ8_ANTG4                   0\n",
      "PLZ8_ANTG1                   0\n",
      "PLZ8_ANTG3                   0\n",
      "PLZ8_ANTG2                   0\n",
      "VERS_TYP                     0\n",
      "HEALTH_TYP                   0\n",
      "KBA13_ANZAHL_PKW           528\n",
      "ANZ_HAUSHALTE_AKTIV       1812\n",
      "RELAT_AB                    68\n",
      "ARBEIT                      68\n",
      "ORTSGR_KLS9                  0\n",
      "ANZ_HH_TITEL                 0\n",
      "INNENSTADT                   0\n",
      "EWDICHTE                     0\n",
      "BALLRAUM                     0\n",
      "GEBAEUDETYP_RASTER           2\n",
      "MIN_GEBAEUDEJAHR             0\n",
      "OST_WEST_KZ                  0\n",
      "                         ...  \n",
      "HH_EINKOMMEN_SCORE           0\n",
      "RETOURTYP_BK_S               0\n",
      "ONLINE_AFFINITAET            0\n",
      "ALTERSKATEGORIE_GROB         0\n",
      "GREEN_AVANTGARDE             0\n",
      "FINANZ_HAUSBAUER             0\n",
      "FINANZ_UNAUFFAELLIGER        0\n",
      "FINANZ_ANLEGER               0\n",
      "FINANZ_SPARER                0\n",
      "FINANZ_MINIMALIST            0\n",
      "ANREDE_KZ                    0\n",
      "FINANZ_VORSORGER             0\n",
      "SEMIO_FAM                    0\n",
      "SEMIO_SOZ                    0\n",
      "SEMIO_REL                    0\n",
      "SEMIO_MAT                    0\n",
      "SEMIO_VERT                   0\n",
      "SEMIO_LUST                   0\n",
      "SEMIO_ERL                    0\n",
      "SEMIO_KULT                   0\n",
      "SEMIO_RAT                    0\n",
      "SEMIO_KRIT                   0\n",
      "SEMIO_DOM                    0\n",
      "SEMIO_KAEM                   0\n",
      "SEMIO_PFLICHT                0\n",
      "SEMIO_TRADV                  0\n",
      "DECADE                    6342\n",
      "MOVEMENT                  6342\n",
      "WEALTH                       0\n",
      "LIFE_STAGE                   0\n",
      "Length: 65, dtype: int64\n"
     ]
    }
   ],
   "source": [
    "# If there are other re-engineering tasks you need to perform, make sure you\n",
    "# take care of them here. (Dealing with missing data will come in step 2.1.)\n",
    "\n",
    "# Double check that we have low missing vals\n",
    "print(low_missing_vals.isnull().sum(axis=1))\n",
    "print(low_missing_vals.isnull().sum())"
   ]
  },
  {
   "cell_type": "markdown",
   "metadata": {},
   "source": [
    "### Step 1.3: Create a Cleaning Function\n",
    "\n",
    "Since I need to perform the same cleaning steps on the customer demographics data, I have created a function below to execute the main feature selection, encoding, and re-engineering steps performed above. Then, when it comes to looking at the customer data in Step 3, I can run this function on that DataFrame to get the trimmed dataset in a single step."
   ]
  },
  {
   "cell_type": "code",
   "execution_count": 33,
   "metadata": {},
   "outputs": [],
   "source": [
    "def clean_data(df):\n",
    "    \"\"\"\n",
    "    Perform feature trimming, re-encoding, and engineering for demographics\n",
    "    data\n",
    "    \n",
    "    INPUT: Demographics DataFrame\n",
    "    OUTPUT: Trimmed and cleaned demographics DataFrame\n",
    "    \"\"\"\n",
    "    \n",
    "    # Put in code here to execute all main cleaning steps:\n",
    "    \n",
    "    # convert missing value codes into NaNs, ...\n",
    "    for column in range(feat_info.shape[0]): # loop over the column indexes\n",
    "        missing = feat_info.iloc[column][3] # pull out the missing data codes for each column in the loop\n",
    "        missing = missing.strip('[') # formatting\n",
    "        missing = missing.strip(']') # formatting\n",
    "        missing = missing.split(sep=',') # formatting\n",
    "        for i in range(len(missing)): # loop over each code stored in missing\n",
    "            if missing[i] in values: # if the code is in the values list\n",
    "                    missing[i] = int(missing[i]) # change to an integer\n",
    "        if(missing!=['']): # if missing is not empty\n",
    "            df = df.replace({feat_info.iloc[column][0]: missing}, np.nan) # replace with nan\n",
    "        \n",
    "\n",
    "    # Split the data into high and low missingness\n",
    "    missing_vals_row = df.isnull().sum(axis=1)\n",
    "    high = df[df.isnull().sum(axis=1) > 2]\n",
    "    low = df[df.isnull().sum(axis=1) <= 2]\n",
    " \n",
    "    # Assess categorical variables: which are binary, which are multi-level, and\n",
    "    # which one needs to be re-encoded?\n",
    "    cat = feat_info[feat_info['type'] == 'categorical']\n",
    "    print(cat)\n",
    "\n",
    "    # Make a subset of categorical data\n",
    "    binary = []\n",
    "    categorical = []\n",
    "\n",
    "    for col in list(cat['attribute']):\n",
    "        if len(low[col].value_counts()) > 2:\n",
    "            categorical.append(col)\n",
    "        else:\n",
    "            binary.append(col)\n",
    "            \n",
    "    # Re-encode 'OST_WEST_KZ' to 0 and 1\n",
    "    low.loc[:, 'OST_WEST_KZ'] = low.apply(lambda x : 1 if x['OST_WEST_KZ'] == 'W' else (0 if x['OST_WEST_KZ'] == 'O' else x), axis=1)\n",
    "    low.OST_WEST_KZ.value_counts(dropna=False)\n",
    "    \n",
    "    # Drop multi-level categorical data, for simplicity\n",
    "    for col in categorical:\n",
    "            low=low.drop(col, axis=1)\n",
    "\n",
    "    # subset the mixed types\n",
    "    mixed_types = feat_info[feat_info['type'] == 'mixed']['attribute']\n",
    "\n",
    "    # Investigate \"PRAEGENDE_JUGENDJAHRE\" and engineer two new variables.\n",
    "    low['DECADE'] = low.PRAEGENDE_JUGENDJAHRE.map(PRAEGENDE_JUGENDJAHRE_dict)\n",
    "\n",
    "    # re-code the values and create a new column for movement.\n",
    "    low['MOVEMENT'] = low.PRAEGENDE_JUGENDJAHRE.map(PRAEGENDE_JUGENDJAHRE_dict2)\n",
    "\n",
    "    low = low.drop('PRAEGENDE_JUGENDJAHRE', axis=1)\n",
    "\n",
    "    # Investigate \"CAMEO_INTL_2015\" and engineer two new variables: WEALTH and LIFE_STAGE\n",
    "\n",
    "    # Split this variable into two separate columns for 10's and 1's e.g. 51, split into 5 and 1\n",
    "    string = list(low['CAMEO_INTL_2015'])\n",
    "    WEALTH = []\n",
    "    LIFE_STAGE = []\n",
    "\n",
    "    for i in range (len(string)):\n",
    "        val=string[i]\n",
    "        if(type(val)==str):\n",
    "            WEALTH.append(int(val[0]))\n",
    "        else:\n",
    "            WEALTH.append(np.nan)\n",
    "\n",
    "    for i in range (len(string)):\n",
    "        val=string[i]\n",
    "        if(type(val)==str):\n",
    "            LIFE_STAGE.append(int(val[1]))\n",
    "        else:\n",
    "            LIFE_STAGE.append(np.nan)\n",
    "\n",
    "\n",
    "    low['WEALTH'] = WEALTH\n",
    "    low['LIFE_STAGE'] = LIFE_STAGE\n",
    "    low = low.drop('CAMEO_INTL_2015', axis=1)\n",
    "    \n",
    "    # Drop the other mixed data types\n",
    "    low = low.drop('LP_LEBENSPHASE_FEIN', axis=1)\n",
    "    low = low.drop('LP_LEBENSPHASE_GROB', axis=1)\n",
    "    low = low.drop('WOHNLAGE', axis=1)\n",
    "    \n",
    "    # remove selected columns and rows, ...\n",
    "    # remove features with more than 30% missing data - these features were determined \n",
    "    # in the original dataset and \n",
    "    # so we are just selecting the same features here\n",
    "    to_keep_list = list(low_missing_vals.columns)\n",
    "    low = low[to_keep_list]\n",
    "    \n",
    "    # Return the cleaned dataframe.\n",
    "    clean_data = low\n",
    "    return clean_data"
   ]
  },
  {
   "cell_type": "markdown",
   "metadata": {},
   "source": [
    "## Step 2: Feature Transformation\n",
    "\n",
    "### Step 2.1: Apply Feature Scaling\n",
    "\n",
    "Before applying dimensionality reduction techniques to the data, I neededd to perform feature scaling so that the principal component vectors are not influenced by the natural differences in scale for features. "
   ]
  },
  {
   "cell_type": "code",
   "execution_count": 34,
   "metadata": {},
   "outputs": [
    {
     "name": "stdout",
     "output_type": "stream",
     "text": [
      "ALTERSKATEGORIE_GROB     0\n",
      "ANREDE_KZ                0\n",
      "ANZ_HAUSHALTE_AKTIV      0\n",
      "ANZ_HH_TITEL             0\n",
      "ANZ_PERSONEN             0\n",
      "ANZ_TITEL                0\n",
      "ARBEIT                   0\n",
      "BALLRAUM                 0\n",
      "DECADE                   0\n",
      "EWDICHTE                 0\n",
      "FINANZ_ANLEGER           0\n",
      "FINANZ_HAUSBAUER         0\n",
      "FINANZ_MINIMALIST        0\n",
      "FINANZ_SPARER            0\n",
      "FINANZ_UNAUFFAELLIGER    0\n",
      "FINANZ_VORSORGER         0\n",
      "GEBAEUDETYP_RASTER       0\n",
      "GREEN_AVANTGARDE         0\n",
      "HEALTH_TYP               0\n",
      "HH_EINKOMMEN_SCORE       0\n",
      "INNENSTADT               0\n",
      "KBA05_ANTG1              0\n",
      "KBA05_ANTG2              0\n",
      "KBA05_ANTG3              0\n",
      "KBA05_ANTG4              0\n",
      "KBA05_GBZ                0\n",
      "KBA13_ANZAHL_PKW         0\n",
      "KKK                      0\n",
      "KONSUMNAEHE              0\n",
      "LIFE_STAGE               0\n",
      "                        ..\n",
      "OST_WEST_KZ              0\n",
      "PLZ8_ANTG1               0\n",
      "PLZ8_ANTG2               0\n",
      "PLZ8_ANTG3               0\n",
      "PLZ8_ANTG4               0\n",
      "PLZ8_BAUMAX              0\n",
      "PLZ8_GBZ                 0\n",
      "PLZ8_HHZ                 0\n",
      "REGIOTYP                 0\n",
      "RELAT_AB                 0\n",
      "RETOURTYP_BK_S           0\n",
      "SEMIO_DOM                0\n",
      "SEMIO_ERL                0\n",
      "SEMIO_FAM                0\n",
      "SEMIO_KAEM               0\n",
      "SEMIO_KRIT               0\n",
      "SEMIO_KULT               0\n",
      "SEMIO_LUST               0\n",
      "SEMIO_MAT                0\n",
      "SEMIO_PFLICHT            0\n",
      "SEMIO_RAT                0\n",
      "SEMIO_REL                0\n",
      "SEMIO_SOZ                0\n",
      "SEMIO_TRADV              0\n",
      "SEMIO_VERT               0\n",
      "SOHO_KZ                  0\n",
      "VERS_TYP                 0\n",
      "WEALTH                   0\n",
      "WOHNDAUER_2008           0\n",
      "W_KEIT_KIND_HH           0\n",
      "Length: 65, dtype: int64\n"
     ]
    }
   ],
   "source": [
    "# Create impute and fill missing values with median\n",
    "from sklearn.preprocessing import Imputer\n",
    "imputer = Imputer()\n",
    "\n",
    "imp = []\n",
    "for x in sorted(low_missing_vals.columns.tolist()):\n",
    "    imp.append(x)\n",
    "low_missing_vals = low_missing_vals[imp]\n",
    "\n",
    "low_missing_vals = pd.DataFrame(imputer.fit_transform(low_missing_vals), columns = low_missing_vals.columns)\n",
    "\n",
    "print(low_missing_vals.isnull().sum())\n",
    "\n",
    "\n",
    "# # Impute missing values with the median value\n",
    "# col = list(low_missing_vals.columns)\n",
    "# for i in range(len(col)):\n",
    "#     median = low_missing_vals.iloc[:,i].median()\n",
    "#     low_missing_vals.iloc[:,i] = low_missing_vals.iloc[:,i].fillna(median)\n",
    "\n",
    "    \n",
    "# print(low_missing_vals.isnull().sum())"
   ]
  },
  {
   "cell_type": "code",
   "execution_count": 35,
   "metadata": {},
   "outputs": [
    {
     "name": "stdout",
     "output_type": "stream",
     "text": [
      "   ALTERSKATEGORIE_GROB  ANREDE_KZ  ANZ_HAUSHALTE_AKTIV  ANZ_HH_TITEL  \\\n",
      "0                   1.0        2.0                 11.0           0.0   \n",
      "1                   3.0        2.0                 10.0           0.0   \n",
      "2                   3.0        1.0                  3.0           0.0   \n",
      "3                   1.0        2.0                  5.0           0.0   \n",
      "4                   2.0        2.0                  4.0           0.0   \n",
      "\n",
      "   ANZ_PERSONEN  ANZ_TITEL  ARBEIT  BALLRAUM  DECADE  EWDICHTE  \\\n",
      "0           2.0        0.0     3.0       6.0    90.0       3.0   \n",
      "1           1.0        0.0     3.0       2.0    90.0       4.0   \n",
      "2           4.0        0.0     4.0       2.0    70.0       5.0   \n",
      "3           1.0        0.0     2.0       6.0    50.0       2.0   \n",
      "4           1.0        0.0     4.0       6.0    80.0       4.0   \n",
      "\n",
      "        ...        SEMIO_RAT  SEMIO_REL  SEMIO_SOZ  SEMIO_TRADV  SEMIO_VERT  \\\n",
      "0       ...              6.0        4.0        5.0          6.0         1.0   \n",
      "1       ...              4.0        3.0        4.0          3.0         4.0   \n",
      "2       ...              2.0        4.0        6.0          2.0         7.0   \n",
      "3       ...              7.0        7.0        2.0          6.0         2.0   \n",
      "4       ...              7.0        5.0        2.0          7.0         2.0   \n",
      "\n",
      "   SOHO_KZ  VERS_TYP  WEALTH  WOHNDAUER_2008  W_KEIT_KIND_HH  \n",
      "0      1.0       2.0     5.0             9.0             3.0  \n",
      "1      0.0       1.0     2.0             9.0             3.0  \n",
      "2      0.0       2.0     4.0             9.0             2.0  \n",
      "3      0.0       2.0     5.0             9.0             6.0  \n",
      "4      0.0       1.0     2.0             9.0             3.0  \n",
      "\n",
      "[5 rows x 65 columns]\n",
      "   ALTERSKATEGORIE_GROB  ANREDE_KZ  ANZ_HAUSHALTE_AKTIV  ANZ_HH_TITEL  \\\n",
      "0                   1.0        2.0                 11.0           0.0   \n",
      "1                   3.0        2.0                 10.0           0.0   \n",
      "2                   3.0        1.0                  3.0           0.0   \n",
      "3                   1.0        2.0                  5.0           0.0   \n",
      "4                   2.0        2.0                  4.0           0.0   \n",
      "\n",
      "   ANZ_PERSONEN  ANZ_TITEL  ARBEIT  BALLRAUM  DECADE  EWDICHTE  \\\n",
      "0           2.0        0.0     3.0       6.0    90.0       3.0   \n",
      "1           1.0        0.0     3.0       2.0    90.0       4.0   \n",
      "2           4.0        0.0     4.0       2.0    70.0       5.0   \n",
      "3           1.0        0.0     2.0       6.0    50.0       2.0   \n",
      "4           1.0        0.0     4.0       6.0    80.0       4.0   \n",
      "\n",
      "        ...        SEMIO_RAT  SEMIO_REL  SEMIO_SOZ  SEMIO_TRADV  SEMIO_VERT  \\\n",
      "0       ...              6.0        4.0        5.0          6.0         1.0   \n",
      "1       ...              4.0        3.0        4.0          3.0         4.0   \n",
      "2       ...              2.0        4.0        6.0          2.0         7.0   \n",
      "3       ...              7.0        7.0        2.0          6.0         2.0   \n",
      "4       ...              7.0        5.0        2.0          7.0         2.0   \n",
      "\n",
      "   SOHO_KZ  VERS_TYP  WEALTH  WOHNDAUER_2008  W_KEIT_KIND_HH  \n",
      "0      1.0       2.0     5.0             9.0             3.0  \n",
      "1      0.0       1.0     2.0             9.0             3.0  \n",
      "2      0.0       2.0     4.0             9.0             2.0  \n",
      "3      0.0       2.0     5.0             9.0             6.0  \n",
      "4      0.0       1.0     2.0             9.0             3.0  \n",
      "\n",
      "[5 rows x 65 columns]\n"
     ]
    }
   ],
   "source": [
    "print(low_missing_vals[list(low_missing_vals.columns)].head())\n",
    "print(low_missing_vals.head())"
   ]
  },
  {
   "cell_type": "code",
   "execution_count": 36,
   "metadata": {},
   "outputs": [
    {
     "name": "stdout",
     "output_type": "stream",
     "text": [
      "   ALTERSKATEGORIE_GROB  ANREDE_KZ  ANZ_HAUSHALTE_AKTIV  ANZ_HH_TITEL  \\\n",
      "0             -1.742284   0.974592             0.168652     -0.129522   \n",
      "1              0.193020   0.974592             0.103553     -0.129522   \n",
      "2              0.193020  -1.026070            -0.352138     -0.129522   \n",
      "3             -1.742284   0.974592            -0.221940     -0.129522   \n",
      "4             -0.774632   0.974592            -0.287039     -0.129522   \n",
      "\n",
      "   ANZ_PERSONEN  ANZ_TITEL    ARBEIT  BALLRAUM    DECADE  EWDICHTE  \\\n",
      "0      0.171480  -0.060805 -0.188148  0.853627  1.162032 -0.567852   \n",
      "1     -0.707385  -0.060805 -0.188148 -0.972294  1.162032  0.015740   \n",
      "2      1.929210  -0.060805  0.817786 -0.972294 -0.218147  0.599331   \n",
      "3     -0.707385  -0.060805 -1.194082  0.853627 -1.598326 -1.151443   \n",
      "4     -0.707385  -0.060805  0.817786  0.853627  0.471943  0.015740   \n",
      "\n",
      "        ...        SEMIO_RAT  SEMIO_REL  SEMIO_SOZ  SEMIO_TRADV  SEMIO_VERT  \\\n",
      "0       ...         1.293190   0.061639   0.395804     1.253450   -1.728223   \n",
      "1       ...         0.094837  -0.473979  -0.115732    -0.426672   -0.155407   \n",
      "2       ...        -1.103516   0.061639   0.907339    -0.986713    1.417408   \n",
      "3       ...         1.892367   1.668495  -1.138803     1.253450   -1.203951   \n",
      "4       ...         1.892367   0.597258  -1.138803     1.813491   -1.203951   \n",
      "\n",
      "     SOHO_KZ  VERS_TYP    WEALTH  WOHNDAUER_2008  W_KEIT_KIND_HH  \n",
      "0  10.839373  0.942138  1.166730        0.543885       -0.685878  \n",
      "1  -0.092256 -1.061416 -0.879379        0.543885       -0.685878  \n",
      "2  -0.092256  0.942138  0.484694        0.543885       -1.257710  \n",
      "3  -0.092256  0.942138  1.166730        0.543885        1.029620  \n",
      "4  -0.092256 -1.061416 -0.879379        0.543885       -0.685878  \n",
      "\n",
      "[5 rows x 65 columns]\n"
     ]
    }
   ],
   "source": [
    "# Apply feature scaling to the general population demographics data.\n",
    "# Fit and transform\n",
    "scaler = StandardScaler()\n",
    "low_missing_vals = pd.DataFrame(scaler.fit_transform(low_missing_vals), columns = low_missing_vals.columns)\n",
    "print(low_missing_vals.head())"
   ]
  },
  {
   "cell_type": "markdown",
   "metadata": {},
   "source": [
    "### Discussion 2.1: Apply Feature Scaling\n",
    "\n",
    "Because we have features that are on completely different scales it is essential to standardise the values. StandardScaler removes the means and scales to unit variance which is an appropriate method and results in all values being between 0 and 1. "
   ]
  },
  {
   "cell_type": "markdown",
   "metadata": {},
   "source": [
    "### Step 2.2: Perform Dimensionality Reduction\n",
    "\n",
    "Below I have applied dimensionality reduction techniques.\n"
   ]
  },
  {
   "cell_type": "code",
   "execution_count": 37,
   "metadata": {},
   "outputs": [],
   "source": [
    "# Apply PCA to the data.\n",
    "pca = PCA()\n",
    "low_pca = pca.fit(low_missing_vals)\n"
   ]
  },
  {
   "cell_type": "code",
   "execution_count": 38,
   "metadata": {},
   "outputs": [
    {
     "data": {
      "image/png": "[encoded data removed]",
      "text/plain": [
       "<matplotlib.figure.Figure at 0x7f403ffb5160>"
      ]
     },
     "metadata": {
      "needs_background": "light"
     },
     "output_type": "display_data"
    }
   ],
   "source": [
    "# Investigate the variance accounted for by each principal component.\n",
    "\n",
    "## Note this function has been taken from the udacity helper functions provided.\n",
    "def scree_plot(pca):\n",
    "    '''\n",
    "    Creates a scree plot associated with the principal components \n",
    "    \n",
    "    INPUT: pca - the result of instantian of PCA in scikit learn\n",
    "            \n",
    "    OUTPUT:\n",
    "            None\n",
    "    '''\n",
    "    num_components=len(pca.explained_variance_ratio_)\n",
    "    ind = np.arange(num_components)\n",
    "    vals = pca.explained_variance_ratio_\n",
    " \n",
    "    plt.figure(figsize=(18, 8))\n",
    "    ax = plt.subplot(111)\n",
    "    cumvals = np.cumsum(vals)\n",
    "    ax.bar(ind, vals)\n",
    "    ax.plot(ind, cumvals)\n",
    "    for i in range(num_components):\n",
    "        ax.annotate(r\"%s%%\" % ((str(vals[i]*100)[:4])), (ind[i]+0.2, vals[i]), va=\"bottom\", ha=\"center\", fontsize=7)\n",
    " \n",
    "    ax.xaxis.set_tick_params(width=0)\n",
    "    ax.yaxis.set_tick_params(width=2, length=3)\n",
    " \n",
    "    ax.set_xlabel(\"Principal Component\")\n",
    "    ax.set_ylabel(\"Variance Explained (%)\")\n",
    "    plt.title('Explained Variance Per Principal Component')\n",
    "    \n",
    "scree_plot(pca)"
   ]
  },
  {
   "cell_type": "code",
   "execution_count": 39,
   "metadata": {},
   "outputs": [
    {
     "data": {
      "image/png": "[encoded data removed]",
      "text/plain": [
       "<matplotlib.figure.Figure at 0x7f404109d978>"
      ]
     },
     "metadata": {
      "needs_background": "light"
     },
     "output_type": "display_data"
    }
   ],
   "source": [
    "# Re-apply PCA to the data while selecting for number of components to retain.\n",
    "pca = PCA(n_components = 38)\n",
    "low_missing_pca = pca.fit_transform(low_missing_vals)\n",
    "scree_plot(pca)"
   ]
  },
  {
   "cell_type": "markdown",
   "metadata": {},
   "source": [
    "### Discussion 2.2: Perform Dimensionality Reduction\n",
    "\n",
    "I have fitted the PCA model and from looking at the scree plot I can see that 38 components is roughly optimal as 90% of the variance is explained with these components. 65 features have been retained to create these components."
   ]
  },
  {
   "cell_type": "markdown",
   "metadata": {},
   "source": [
    "### Step 2.3: Interpret Principal Components\n",
    "\n",
    "Now that I have transformed principal components, it's a nice idea to check out the weight of each variable on the first few components to see if they can be interpreted in some fashion.\n",
    "\n",
    "As a reminder, each principal component is a unit vector that points in the direction of highest variance (after accounting for the variance captured by earlier principal components). The further a weight is from zero, the more the principal component is in the direction of the corresponding feature. If two features have large weights of the same sign (both positive or both negative), then increases in one tend expect to be associated with increases in the other. To contrast, features with different signs can be expected to show a negative correlation: increases in one variable should result in a decrease in the other.\n",
    "\n",
    "- To investigate the features, I have mapped each weight to their corresponding feature name, then sorted the features according to weight. The most interesting features for each principal component, then, will be those at the beginning and end of the sorted list. \n",
    "\n",
    "- I have investigated and interpreted feature associations from the first three principal components in this substep. To help facilitate this, I have written a function to call at any time to print the sorted list of feature weights, for the *i*-th principal component. This might come in handy in the next step of the project, when you interpret the tendencies of the discovered clusters."
   ]
  },
  {
   "cell_type": "code",
   "execution_count": 40,
   "metadata": {},
   "outputs": [
    {
     "data": {
      "image/png": "[encoded data removed]",
      "text/plain": [
       "<matplotlib.figure.Figure at 0x7f40430c1ac8>"
      ]
     },
     "metadata": {
      "needs_background": "light"
     },
     "output_type": "display_data"
    }
   ],
   "source": [
    "# Map weights for the first principal component to corresponding feature names\n",
    "# and then print the linked values, sorted by weight.\n",
    "\n",
    "\n",
    "# Note this function was taken from the helper functions provided by Udacity\n",
    "def pca_results(full_dataset, pca):\n",
    "    '''\n",
    "    Create a DataFrame of the PCA results\n",
    "    Includes dimension feature weights and explained variance\n",
    "    Visualizes the PCA results\n",
    "    '''\n",
    "\n",
    "    # Dimension indexing\n",
    "    dimensions = dimensions = ['Dimension {}'.format(i) for i in range(1,len(pca.components_)+1)]\n",
    "\n",
    "    # PCA components\n",
    "    components = pd.DataFrame(np.round(pca.components_, 4), columns = full_dataset.keys())\n",
    "    components.index = dimensions\n",
    "\n",
    "    # PCA explained variance\n",
    "    ratios = pca.explained_variance_ratio_.reshape(len(pca.components_), 1)\n",
    "    variance_ratios = pd.DataFrame(np.round(ratios, 4), columns = ['Explained Variance'])\n",
    "    variance_ratios.index = dimensions\n",
    "\n",
    "    # Create a bar plot visualization\n",
    "    fig, ax = plt.subplots(figsize = (14,8))\n",
    "\n",
    "    # Plot the feature weights as a function of the components\n",
    "    components.plot(ax = ax, kind = 'bar');\n",
    "    ax.set_ylabel(\"Feature Weights\")\n",
    "    ax.set_xticklabels(dimensions, rotation=0)\n",
    "\n",
    "\n",
    "    # Display the explained variance ratios\n",
    "    for i, ev in enumerate(pca.explained_variance_ratio_):\n",
    "        ax.text(i-0.40, ax.get_ylim()[1] + 0.05, \"Explained Variance\\n          %.4f\"%(ev))\n",
    "\n",
    "    # Return a concatenated DataFrame\n",
    "    return pd.concat([variance_ratios, components], axis = 1)\n",
    "\n",
    "pca_weights = pca_results(low_missing_vals, pca)"
   ]
  },
  {
   "cell_type": "code",
   "execution_count": 41,
   "metadata": {},
   "outputs": [
    {
     "name": "stdout",
     "output_type": "stream",
     "text": [
      "             SEMIO_REL  DECADE  FINANZ_SPARER  SEMIO_PFLICHT  SEMIO_TRADV  \\\n",
      "Dimension 1     0.1001  0.0958         0.1340         0.1031       0.0876   \n",
      "Dimension 2    -0.2649 -0.2496        -0.2394        -0.2377      -0.2325   \n",
      "\n",
      "             FINANZ_UNAUFFAELLIGER  SEMIO_KULT  FINANZ_ANLEGER  SEMIO_FAM  \\\n",
      "Dimension 1                 0.0668      0.0681          0.0573     0.0742   \n",
      "Dimension 2                -0.2277     -0.2196         -0.2073    -0.1803   \n",
      "\n",
      "             SEMIO_RAT          ...           SEMIO_KAEM  FINANZ_HAUSBAUER  \\\n",
      "Dimension 1     0.0859          ...               0.0329            0.1547   \n",
      "Dimension 2    -0.1762          ...               0.1063            0.1093   \n",
      "\n",
      "             W_KEIT_KIND_HH  SEMIO_KRIT  Explained Variance  RETOURTYP_BK_S  \\\n",
      "Dimension 1          0.0369      0.0036              0.1773         -0.0178   \n",
      "Dimension 2          0.1171      0.1175              0.1380          0.1651   \n",
      "\n",
      "             SEMIO_LUST  FINANZ_VORSORGER  SEMIO_ERL  ALTERSKATEGORIE_GROB  \n",
      "Dimension 1     -0.0791           -0.1062    -0.0788               -0.1136  \n",
      "Dimension 2      0.1847            0.2312     0.2332                0.2632  \n",
      "\n",
      "[2 rows x 66 columns]\n"
     ]
    }
   ],
   "source": [
    "# Map weights for the second principal component to corresponding feature names\n",
    "# and then print the linked values, sorted by weight.\n",
    "print(pca_weights.sort_values(by='Dimension 2', ascending=True, axis=1).head(2))\n"
   ]
  },
  {
   "cell_type": "code",
   "execution_count": 42,
   "metadata": {},
   "outputs": [
    {
     "name": "stdout",
     "output_type": "stream",
     "text": [
      "             ANREDE_KZ  SEMIO_KAEM  SEMIO_DOM  SEMIO_KRIT  SEMIO_RAT  \\\n",
      "Dimension 1     0.0013      0.0329     0.0180      0.0036     0.0859   \n",
      "Dimension 2     0.0860      0.1063     0.0630      0.1175    -0.1762   \n",
      "Dimension 3    -0.3690     -0.3388    -0.3139     -0.2710    -0.2159   \n",
      "\n",
      "             FINANZ_ANLEGER  SEMIO_ERL  DECADE  FINANZ_SPARER  \\\n",
      "Dimension 1          0.0573    -0.0788  0.0958         0.1340   \n",
      "Dimension 2         -0.2073     0.2332 -0.2496        -0.2394   \n",
      "Dimension 3         -0.1865    -0.1710 -0.1068        -0.1021   \n",
      "\n",
      "             FINANZ_UNAUFFAELLIGER     ...      ALTERSKATEGORIE_GROB  \\\n",
      "Dimension 1                 0.0668     ...                   -0.1136   \n",
      "Dimension 2                -0.2277     ...                    0.2632   \n",
      "Dimension 3                -0.0919     ...                    0.0821   \n",
      "\n",
      "             W_KEIT_KIND_HH  Explained Variance  FINANZ_VORSORGER  \\\n",
      "Dimension 1          0.0369              0.1773           -0.1062   \n",
      "Dimension 2          0.1171              0.1380            0.2312   \n",
      "Dimension 3          0.0900              0.0946            0.0981   \n",
      "\n",
      "             RETOURTYP_BK_S  FINANZ_MINIMALIST  SEMIO_KULT  SEMIO_FAM  \\\n",
      "Dimension 1         -0.0178            -0.2082      0.0681     0.0742   \n",
      "Dimension 2          0.1651             0.0736     -0.2196    -0.1803   \n",
      "Dimension 3          0.1139             0.1614      0.2333     0.2518   \n",
      "\n",
      "             SEMIO_SOZ  SEMIO_VERT  \n",
      "Dimension 1     0.0439     -0.0289  \n",
      "Dimension 2    -0.1030     -0.0648  \n",
      "Dimension 3     0.2636      0.3492  \n",
      "\n",
      "[3 rows x 66 columns]\n"
     ]
    }
   ],
   "source": [
    "# Map weights for the third principal component to corresponding feature names\n",
    "# and then print the linked values, sorted by weight.\n",
    "print(pca_weights.sort_values(by='Dimension 3', ascending=True, axis=1).head(3))\n"
   ]
  },
  {
   "cell_type": "markdown",
   "metadata": {},
   "source": [
    "### Discussion 2.3: Interpret Principal Components\n",
    "\n",
    "The following variables are most important for dimension 2:\n",
    "SEMIO_REL - negative for D2\n",
    "ALTERSKATEGORIE_GROB = estimated age - positive for D2\n",
    "\n",
    "So the dimension is made of older people with a higher affinity for SEMIO_REL.\n",
    "\n",
    "\n",
    "The following variables are most important for dimension 3:\n",
    "ANREDE_KZ = gender - negative for D3\n",
    "SEMIO_VERT = positive for D3\n",
    "\n",
    "So the dimension includes more females with a higher affinity for SEMIO_VERT."
   ]
  },
  {
   "cell_type": "markdown",
   "metadata": {},
   "source": [
    "## Step 3: Clustering\n",
    "\n",
    "### Step 3.1: Apply Clustering to General Population\n",
    "\n",
    "I have assessed and cleaned the demographics data, then scaled and transformed them. Now, it's time to see how the data clusters in the principal components space. In this substep, I have applied k-means clustering to the dataset and use the average within-cluster distances from each point to their assigned cluster's centroid to decide on a number of clusters to keep.\n"
   ]
  },
  {
   "cell_type": "code",
   "execution_count": null,
   "metadata": {},
   "outputs": [],
   "source": [
    "# Over a number of different cluster counts...\n",
    "def get_kmeans_score(data, centre):\n",
    "    '''\n",
    "    returns the kmeans score regarding SSE for points to centers\n",
    "    INPUT:\n",
    "        data - the dataset you want to fit kmeans to\n",
    "        center - the number of centers you want (the k value)\n",
    "    OUTPUT:\n",
    "        score - the SSE score for the kmeans model fit to the data\n",
    "    '''\n",
    "\n",
    "    # run k-means clustering on the data and...\n",
    "    kmeans = KMeans(n_clusters=centre)\n",
    "    model = kmeans.fit(data)\n",
    "    score = np.abs(model.score(data))\n",
    "    \n",
    "    # compute the average within-cluster distances.\n",
    "    averages = score/data.shape[0]\n",
    "\n",
    "    return score, averages\n",
    "\n",
    "scores = []\n",
    "centres = list(range(1,11))\n",
    "for centre in centres:\n",
    "    scores.append(get_kmeans_score(low_missing_pca, centre))\n",
    "    "
   ]
  },
  {
   "cell_type": "code",
   "execution_count": null,
   "metadata": {},
   "outputs": [],
   "source": [
    "# Investigate the change in within-cluster distance across number of clusters.\n",
    "plt.plot(centres, scores, linestyle='--', marker='o', color='b');\n",
    "plt.xlabel('K');\n",
    "plt.ylabel('Average distance from centroid');\n",
    "plt.title('Scree plot');\n"
   ]
  },
  {
   "cell_type": "code",
   "execution_count": null,
   "metadata": {},
   "outputs": [],
   "source": [
    "# Re-fit the k-means model with the selected number of clusters and obtain\n",
    "# cluster predictions for the general population demographics data.\n",
    "kmeans = KMeans(n_clusters=7)\n",
    "model = kmeans.fit(low_missing_pca)\n",
    "# score = np.abs(model.score(low_missing_vals))\n",
    "general_kmeans = model.predict(low_missing_pca)"
   ]
  },
  {
   "cell_type": "code",
   "execution_count": null,
   "metadata": {},
   "outputs": [],
   "source": [
    "print(model)\n",
    "print(general_kmeans)"
   ]
  },
  {
   "cell_type": "markdown",
   "metadata": {},
   "source": [
    "### Discussion 3.1: Apply Clustering to General Population\n",
    "\n",
    "I have run k-means clustering with a selection of centroids ranging from 1-11 and plotted the average distance from the centre for each number of clusters. I decided 7 would be an optimal number of clusters, it might be slightly out from the \"elbow\", but there isn't a clear elbow in this plot as the average continues to decrease, albeit by small amount, with more clusters. "
   ]
  },
  {
   "cell_type": "markdown",
   "metadata": {},
   "source": [
    "### Step 3.2: Apply All Steps to the Customer Data\n",
    "\n",
    "Now that I have clusters and cluster centers for the general population, it's time to see how the customer data maps on to those clusters. \n",
    "\n",
    "**NOTE** Be careful to not confuse this for re-fitting all of the models to the customer data. Instead, I am using the fits from the general population to clean, transform, and cluster the customer data. In the last step of the project, I have interpreted how the general population fits apply to the customer data.\n"
   ]
  },
  {
   "cell_type": "code",
   "execution_count": null,
   "metadata": {},
   "outputs": [],
   "source": [
    "# Load in the customer demographics data.\n",
    "customers = pd.read_csv(\"Udacity_CUSTOMERS_Subset.csv\", sep=';')\n",
    "print(customers.shape)"
   ]
  },
  {
   "cell_type": "code",
   "execution_count": null,
   "metadata": {
    "scrolled": true
   },
   "outputs": [],
   "source": [
    "# Clean up customers data\n",
    "customers_low_missing_vals = clean_data(customers)\n",
    "print(customers_low_missing_vals.shape)"
   ]
  },
  {
   "cell_type": "code",
   "execution_count": null,
   "metadata": {},
   "outputs": [],
   "source": [
    "# Impute missing values with the median value - feature transformation\n",
    "customers_imputer = imputer.transform(customers_low_missing_vals)\n",
    "customers_low_missing_vals = pd.DataFrame(customers_imputer, columns = customers_low_missing_vals.columns)\n",
    "\n",
    "print(customers_low_missing_vals.isnull().sum())\n"
   ]
  },
  {
   "cell_type": "code",
   "execution_count": null,
   "metadata": {},
   "outputs": [],
   "source": [
    "# Scale data\n",
    "customers_low_missing_vals[list(customers_low_missing_vals.columns)] = scaler.fit_transform(customers_low_missing_vals[list(customers_low_missing_vals.columns)])\n",
    "print(customers_low_missing_vals.head())"
   ]
  },
  {
   "cell_type": "code",
   "execution_count": null,
   "metadata": {},
   "outputs": [],
   "source": [
    "# Apply clustering from the general\n",
    "# demographics onto the customer data, obtaining cluster predictions for the\n",
    "# customer demographics data.\n",
    "\n",
    "customers_pca = pca.transform(customers_low_missing_vals)\n",
    "customers_kmeans = model.predict(customers_pca)\n"
   ]
  },
  {
   "cell_type": "code",
   "execution_count": null,
   "metadata": {},
   "outputs": [],
   "source": [
    "# Counter(customers_kmeans[:,0])\n",
    "print(\"General populations kmeans: \", general_kmeans)\n",
    "print(\"Customers_kmeans: \", customers_kmeans)\n"
   ]
  },
  {
   "cell_type": "markdown",
   "metadata": {},
   "source": [
    "### Step 3.3: Compare Customer Data to Demographics Data\n",
    "\n",
    "At this point, I have clustered data based on demographics of the general population of Germany, and seen how the customer data for a mail-order sales company maps onto those demographic clusters. In this final substep, I have compared the two cluster distributions to see where the strongest customer base for the company is.\n",
    "\n",
    "I have considered the proportion of persons in each cluster for the general population, and the proportions for the customers. If we think the company's customer base to be universal, then the cluster assignment proportions should be fairly similar between the two. If there are only particular segments of the population that are interested in the company's products, then we should see a mismatch from one to the other. If there is a higher proportion of persons in a cluster for the customer data compared to the general population (e.g. 5% of persons are assigned to a cluster for the general population, but 15% of the customer data is closest to that cluster's centroid) then that suggests the people in that cluster to be a target audience for the company. On the other hand, the proportion of the data in a cluster being larger in the general population than the customer data (e.g. only 2% of customers closest to a population centroid that captures 6% of the data) suggests that group of persons to be outside of the target demographics.\n"
   ]
  },
  {
   "cell_type": "code",
   "execution_count": null,
   "metadata": {},
   "outputs": [],
   "source": [
    "print(Counter(general_kmeans))\n",
    "print(Counter(customers_kmeans))\n"
   ]
  },
  {
   "cell_type": "code",
   "execution_count": null,
   "metadata": {},
   "outputs": [],
   "source": [
    "cust_proportion = cust_kmeans_df.groupby(\"cluster\").count()/len(cust_kmeans_df)*100\n",
    "general_proportion = general_kmeans_df.groupby(\"cluster\").count()/len(general_kmeans_df)*100\n",
    "\n",
    "diff = (cust_proportion - general_proportion)\n",
    "diff.rename({'sample':'percentage difference'}, axis=1, inplace=True)\n",
    "print(diff)"
   ]
  },
  {
   "cell_type": "code",
   "execution_count": null,
   "metadata": {},
   "outputs": [],
   "source": [
    "# Compare the proportion of the overall dataset which has been assigned to each cluster \n",
    "# for the customer data and the general population.\n",
    "\n",
    "cust_kmeans_df = pd.DataFrame()\n",
    "cust_col = [\"1\"]\n",
    "cust_kmeans_df[\"cluster\"] = customers_kmeans\n",
    "cust_kmeans_df[\"sample\"] = cust_col*len(cust_kmeans_df)\n",
    "\n",
    "general_kmeans_df = pd.DataFrame()\n",
    "general_col = [\"0\"]\n",
    "general_kmeans_df[\"cluster\"] = general_kmeans\n",
    "general_kmeans_df[\"sample\"] = general_col*len(general_kmeans_df)\n",
    "\n",
    "kmeans_df = pd.concat([cust_kmeans_df, general_kmeans_df])\n",
    "\n",
    "# Plot counts for cluster data in both samples\n",
    "sns.countplot(x='cluster', data=kmeans_df, hue='sample')\n",
    "\n",
    "# Plot distributions\n",
    "fig = plt.figure()\n",
    "ax=fig.add_axes([0,0,2,1], title='Population vs Customer distribution plot')\n",
    "sns.distplot(general_kmeans, label='population',ax=ax)\n",
    "sns.distplot(customers_kmeans, label='customer', ax=ax)\n",
    "ax.legend()"
   ]
  },
  {
   "cell_type": "code",
   "execution_count": null,
   "metadata": {},
   "outputs": [],
   "source": [
    "# What kinds of people are part of a kmeans that is overrepresented in the\n",
    "# customer data compared to the general population?\n",
    "\n",
    "# vector of components, for cluster 0\n",
    "pca_vector = model.cluster_centers_[0]\n",
    "pca_cluster0_df = pd.DataFrame(pca_vector)\n",
    "pca_cluster0_df[\"dimension\"] = pca_cluster0_df.index +1\n",
    "print(pca_cluster0_df.sort_values(by=[0], ascending=True))"
   ]
  },
  {
   "cell_type": "markdown",
   "metadata": {},
   "source": [
    "Here we can see that components 11 and 3 have the greatest impact on cluster 0, which is overrepresented in customers"
   ]
  },
  {
   "cell_type": "code",
   "execution_count": null,
   "metadata": {},
   "outputs": [],
   "source": [
    "## Check again the features that greatly contribute to those components\n",
    "print(pca_weights.sort_values(by='Dimension 3', ascending=True, axis=1).head(3))\n",
    "print(pca_weights.sort_values(by='Dimension 11', ascending=True, axis=1).head(11))\n"
   ]
  },
  {
   "cell_type": "markdown",
   "metadata": {},
   "source": [
    "It looks like \"ANREDE_KZ\" and \"SEMIO_VERT\" are most important for component 3, and \"HEALTH_TYP\" and \"W_KEIT_KIND_HH\" are most important for component 11."
   ]
  },
  {
   "cell_type": "code",
   "execution_count": null,
   "metadata": {},
   "outputs": [],
   "source": [
    "# inverse transform the pca and features for cluster 0 - customers\n",
    "non_scaled_cluster0 = scaler.inverse_transform(pca.inverse_transform(customers_pca[np.where(customers_kmeans==0)])).round()\n",
    "print(non_scaled_cluster0.shape)\n",
    "\n",
    "customers_cluster0_df = pd.DataFrame(non_scaled_cluster0)\n",
    "customers_cluster0_df.columns = customers_low_missing_vals.columns\n"
   ]
  },
  {
   "cell_type": "code",
   "execution_count": null,
   "metadata": {},
   "outputs": [],
   "source": [
    "# inverse transform the pca and features for cluster 0 - general\n",
    "general_non_scaled_cluster0 = scaler.inverse_transform(pca.inverse_transform(low_missing_pca[np.where(general_kmeans==0)])).round()\n",
    "general_cluster0_df = pd.DataFrame(general_non_scaled_cluster0)\n",
    "general_cluster0_df.columns = low_missing_vals.columns\n"
   ]
  },
  {
   "cell_type": "code",
   "execution_count": null,
   "metadata": {},
   "outputs": [],
   "source": [
    "# Investigate the differences between customers and general\n",
    "print(\"Differences in ANREDE_KZ between customers and general population\")\n",
    "print(customers_cluster0_df[\"ANREDE_KZ\"].value_counts()/len(customers_cluster0_df)*100)\n",
    "print(general_cluster0_df[\"ANREDE_KZ\"].value_counts()/len(general_cluster0_df)*100)\n",
    "print(\"Both customers and the general population are more likely to be male in this cluster\")\n",
    "\n",
    "print(\"Differences in SEMIO_VERT between customers and general population\")\n",
    "print(customers_cluster0_df[\"SEMIO_VERT\"].value_counts()/len(customers_cluster0_df)*100)\n",
    "print(general_cluster0_df[\"SEMIO_VERT\"].value_counts()/len(general_cluster0_df)*100)\n",
    "print(\"Both groups have a low affinity for SEMIO_VERT\")\n",
    "\n",
    "print(\"Differences in HEALTH_TYP between customers and general population\")\n",
    "print(customers_cluster0_df[\"HEALTH_TYP\"].value_counts()/len(customers_cluster0_df)*100)\n",
    "print(general_cluster0_df[\"HEALTH_TYP\"].value_counts()/len(general_cluster0_df)*100)\n",
    "print(\"Customers are more likely to be reserved and sanitary affine than the general population....whatever that means\")\n",
    "\n",
    "\n",
    "print(\"Differences in W_KEIT_KIND_HH between customers and general population\")\n",
    "print(customers_cluster0_df[\"W_KEIT_KIND_HH\"].value_counts()/len(customers_cluster0_df)*100)\n",
    "print(general_cluster0_df[\"W_KEIT_KIND_HH\"].value_counts()/len(general_cluster0_df)*100)\n",
    "print(\"Customers are more unlikley to have children living in their home than general population\")\n",
    "\n",
    "\n"
   ]
  },
  {
   "cell_type": "code",
   "execution_count": null,
   "metadata": {},
   "outputs": [],
   "source": [
    "# What kinds of people are part of a cluster that is underrepresented in the\n",
    "# customer data compared to the general population?\n",
    "\n",
    "# vector of components, for cluster 2\n",
    "pca_vector2 = model.cluster_centers_[2]\n",
    "pca_cluster2_df = pd.DataFrame(pca_vector2)\n",
    "pca_cluster2_df[\"dimension\"] = pca_cluster2_df.index +1\n",
    "print(pca_cluster2_df.sort_values(by=[0], ascending=True))\n"
   ]
  },
  {
   "cell_type": "markdown",
   "metadata": {},
   "source": [
    "Here we can see that components 2 and 1 have the greatest impact on cluster 2, which is underrepresented in customers"
   ]
  },
  {
   "cell_type": "code",
   "execution_count": null,
   "metadata": {},
   "outputs": [],
   "source": [
    "## Check again the features that greatly contribute to those components\n",
    "print(pca_weights.sort_values(by='Dimension 2', ascending=True, axis=1).head(2))\n",
    "print(pca_weights.sort_values(by='Dimension 1', ascending=True, axis=1).head(1))\n"
   ]
  },
  {
   "cell_type": "markdown",
   "metadata": {},
   "source": [
    "It looks like \"SEMIO_REL\" and \"ALTERSKATEGORIE_GROB\" are most important for component 2, and \"MOBI_REGIO\" and \"PLZ8_ANTG3\" are most important for component 1."
   ]
  },
  {
   "cell_type": "code",
   "execution_count": null,
   "metadata": {},
   "outputs": [],
   "source": [
    "# inverse transform the pca and features for cluster 2 - customers\n",
    "non_scaled_cluster2 = scaler.inverse_transform(pca.inverse_transform(customers_pca[np.where(customers_kmeans==2)])).round()\n",
    "print(non_scaled_cluster2.shape)\n",
    "\n",
    "customers_cluster2_df = pd.DataFrame(non_scaled_cluster2)\n",
    "customers_cluster2_df.columns = customers_low_missing_vals.columns\n"
   ]
  },
  {
   "cell_type": "code",
   "execution_count": null,
   "metadata": {},
   "outputs": [],
   "source": [
    "# inverse transform the pca and features for cluster 0 - general\n",
    "general_non_scaled_cluster2 = scaler.inverse_transform(pca.inverse_transform(low_missing_pca[np.where(general_kmeans==2)])).round()\n",
    "general_cluster2_df = pd.DataFrame(general_non_scaled_cluster2)\n",
    "general_cluster2_df.columns = low_missing_vals.columns\n"
   ]
  },
  {
   "cell_type": "code",
   "execution_count": null,
   "metadata": {},
   "outputs": [],
   "source": [
    "# Investigate the differences between customers and general\n",
    "print(\"Differences in SEMIO_REL between customers and general population\")\n",
    "print(customers_cluster2_df[\"SEMIO_REL\"].value_counts()/len(customers_cluster2_df)*100)\n",
    "print(general_cluster2_df[\"SEMIO_REL\"].value_counts()/len(general_cluster2_df)*100)\n",
    "print(\"Both customers and the general population are likely to have an overall lower affinity for SMEIO_REL, but customers may have slightly more people with a higher affinity\")\n",
    "\n",
    "print(\"Differences in ALTERSKATEGORIE_GROB between customers and general population\")\n",
    "print(customers_cluster2_df[\"ALTERSKATEGORIE_GROB\"].value_counts()/len(customers_cluster2_df)*100)\n",
    "print(general_cluster2_df[\"ALTERSKATEGORIE_GROB\"].value_counts()/len(general_cluster2_df)*100)\n",
    "print(\"Customers may be slightly older in this group\")\n",
    "\n",
    "print(\"Differences in MOBI_REGIO between customers and general population\")\n",
    "print(customers_cluster2_df[\"MOBI_REGIO\"].value_counts()/len(customers_cluster2_df)*100)\n",
    "print(general_cluster2_df[\"MOBI_REGIO\"].value_counts()/len(general_cluster2_df)*100)\n",
    "print(\"Customers have very high movement patterns, while general has high movement patterns, in general\")\n",
    "\n",
    "print(\"Differences in PLZ8_ANTG3_HH between customers and general population\")\n",
    "print(customers_cluster2_df[\"PLZ8_ANTG3\"].value_counts()/len(customers_cluster2_df)*100)\n",
    "print(general_cluster2_df[\"PLZ8_ANTG3\"].value_counts()/len(general_cluster2_df)*100)\n",
    "print(\"Customers are more likely to live in 6-10 person households\")\n",
    "\n",
    "\n"
   ]
  },
  {
   "cell_type": "markdown",
   "metadata": {},
   "source": [
    "### Discussion 3.3: Compare Customer Data to Demographics Data\n",
    "\n",
    "Cluster 0 is overrepresented in the customer data compared to the general population. The cluster is driven by the following features: \"ANREDE_KZ\", \"SEMIO_VERT\", \"HEALTH_TYP\" and \"W_KEIT_KIND_HH\". Customers in cluster 0 tend to have less children and are more reserved.\n",
    "\n",
    "\n",
    "Cluster 2 is underrepresented in the customer data compared to the general population. The cluster is driven by the following variables: \"SEMIO_REL\", \"ALTERSKATEGORIE_GROB\", \"MOBI_REGIO\" and \"PLZ8_ANTG3\". Customers in cluster 2 tend to have high movement patterns and live in larger households of 6-10 people, they may also be slightly older.\n",
    "\n"
   ]
  },
  {
   "cell_type": "code",
   "execution_count": null,
   "metadata": {},
   "outputs": [],
   "source": []
  }
 ],
 "metadata": {
  "kernelspec": {
   "display_name": "Python 3",
   "language": "python",
   "name": "python3"
  },
  "language_info": {
   "codemirror_mode": {
    "name": "ipython",
    "version": 3
   },
   "file_extension": ".py",
   "mimetype": "text/x-python",
   "name": "python",
   "nbconvert_exporter": "python",
   "pygments_lexer": "ipython3",
   "version": "3.6.3"
  }
 },
 "nbformat": 4,
 "nbformat_minor": 2
}
